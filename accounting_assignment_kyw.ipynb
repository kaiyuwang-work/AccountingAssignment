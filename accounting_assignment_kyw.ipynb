{
  "nbformat": 4,
  "nbformat_minor": 0,
  "metadata": {
    "colab": {
      "name": "accounting assignment 1.ipynb",
      "provenance": [],
      "collapsed_sections": []
    },
    "kernelspec": {
      "name": "python3",
      "display_name": "Python 3"
    }
  },
  "cells": [
    {
      "cell_type": "code",
      "metadata": {
        "id": "m_lMKHj62eYR",
        "colab_type": "code",
        "outputId": "7e274bb1-cfa7-458c-c39f-9dba7f9ed71f",
        "colab": {
          "base_uri": "https://localhost:8080/",
          "height": 272
        }
      },
      "source": [
        "!pip install wrds"
      ],
      "execution_count": 1,
      "outputs": [
        {
          "output_type": "stream",
          "text": [
            "Collecting wrds\n",
            "  Downloading https://files.pythonhosted.org/packages/1c/35/9d86097c36a8528a1f5bbc3815c161c2dfce7fffc28e10cfd7c9726c1ac0/wrds-3.0.8-py3-none-any.whl\n",
            "Collecting mock\n",
            "  Downloading https://files.pythonhosted.org/packages/30/6a/9bde648117ec7087c89a45de0a8b25aba21d54d3defd08cb24eacded875f/mock-4.0.1-py3-none-any.whl\n",
            "Requirement already satisfied: pandas in /usr/local/lib/python3.6/dist-packages (from wrds) (0.25.3)\n",
            "Collecting psycopg2-binary\n",
            "\u001b[?25l  Downloading https://files.pythonhosted.org/packages/1e/c0/16303cef8d54fdcfae7be7880cf471f21449225687f61cc3be2a7ef4e6e5/psycopg2_binary-2.8.4-cp36-cp36m-manylinux1_x86_64.whl (2.9MB)\n",
            "\u001b[K     |████████████████████████████████| 2.9MB 14.2MB/s \n",
            "\u001b[?25hRequirement already satisfied: sqlalchemy in /usr/local/lib/python3.6/dist-packages (from wrds) (1.3.13)\n",
            "Requirement already satisfied: numpy>=1.13.3 in /usr/local/lib/python3.6/dist-packages (from pandas->wrds) (1.17.5)\n",
            "Requirement already satisfied: pytz>=2017.2 in /usr/local/lib/python3.6/dist-packages (from pandas->wrds) (2018.9)\n",
            "Requirement already satisfied: python-dateutil>=2.6.1 in /usr/local/lib/python3.6/dist-packages (from pandas->wrds) (2.6.1)\n",
            "Requirement already satisfied: six>=1.5 in /usr/local/lib/python3.6/dist-packages (from python-dateutil>=2.6.1->pandas->wrds) (1.12.0)\n",
            "Installing collected packages: mock, psycopg2-binary, wrds\n",
            "Successfully installed mock-4.0.1 psycopg2-binary-2.8.4 wrds-3.0.8\n"
          ],
          "name": "stdout"
        }
      ]
    },
    {
      "cell_type": "code",
      "metadata": {
        "id": "50H_bwyZ2hGR",
        "colab_type": "code",
        "colab": {}
      },
      "source": [
        "import pandas as pd\n",
        "import wrds"
      ],
      "execution_count": 0,
      "outputs": []
    },
    {
      "cell_type": "code",
      "metadata": {
        "id": "VFQDrAzM2l6J",
        "colab_type": "code",
        "outputId": "8e98106c-aea7-4440-8c43-1680a0f26275",
        "colab": {
          "base_uri": "https://localhost:8080/",
          "height": 170
        }
      },
      "source": [
        "conn = wrds.Connection(wrds_username=\"kaiyuw\")\n",
        "conn.create_pgpass_file() # then you don't need to enter password next time.\n",
        "conn.close()\n",
        "\n",
        "conn = wrds.Connection(wrds_username='kaiyuw')"
      ],
      "execution_count": 5,
      "outputs": [
        {
          "output_type": "stream",
          "text": [
            "Enter your WRDS username [root]:kaiyuw\n",
            "Enter your password:··········\n",
            "WRDS recommends setting up a .pgpass file.\n",
            "You can find more info here:\n",
            "https://www.postgresql.org/docs/9.5/static/libpq-pgpass.html.\n",
            "Loading library list...\n",
            "Done\n",
            "Loading library list...\n",
            "Done\n"
          ],
          "name": "stdout"
        }
      ]
    },
    {
      "cell_type": "code",
      "metadata": {
        "id": "Fpt5G0hPlU5K",
        "colab_type": "code",
        "colab": {}
      },
      "source": [
        "import pandas as pd\n",
        "import wrds\n",
        "# conn = wrds.Connection(wrds_username='shushu17')\n",
        "\n",
        "import numpy as np\n",
        "from scipy.stats.mstats import winsorize\n",
        "from scipy import stats"
      ],
      "execution_count": 0,
      "outputs": []
    },
    {
      "cell_type": "code",
      "metadata": {
        "id": "IIf6_cWz3utF",
        "colab_type": "code",
        "colab": {}
      },
      "source": [
        "# 1. Sample selection\n",
        "funda = conn.raw_sql(\"\"\"\n",
        "                      select gvkey, fyear, ni, csho, prcc_f, sich\n",
        "\t                  from compa.funda where\n",
        "\t                   (consol='C' and indfmt='INDL' and datafmt='STD' and popsrc='D') and\n",
        "                       fyear<2019 and\n",
        "                       fyear>2007\n",
        "                      \"\"\") \n",
        "company = conn.raw_sql(\"\"\"\n",
        "                      select gvkey, sic\n",
        "\t                  from compa.company\n",
        "                     \"\"\") \n",
        "\n",
        "funda1=pd.merge(funda,company,on=['gvkey'])\n",
        "funda1['sic1']=np.where(funda1['sich']>0,funda1['sich']>0,funda1['sic'])\n",
        "funda1=funda1.drop(['sich','sic'],axis=1)\n",
        "funda1['sic1']=funda1['sic1'].astype(int)"
      ],
      "execution_count": 0,
      "outputs": []
    },
    {
      "cell_type": "code",
      "metadata": {
        "id": "NXDe7HJrk5Ik",
        "colab_type": "code",
        "colab": {}
      },
      "source": [
        "# industry restriction\n",
        "indexNames =funda1[ (funda1['sic1'] >= 4400) & (funda1['sic1'] <= 5000) ].index\n",
        "funda1.drop(indexNames , inplace=True)\n",
        "indexNames =funda1[ (funda1['sic1'] >= 6000) & (funda1['sic1'] <= 6500) ].index\n",
        "funda1.drop(indexNames , inplace=True)"
      ],
      "execution_count": 0,
      "outputs": []
    },
    {
      "cell_type": "code",
      "metadata": {
        "id": "tUSKioWild43",
        "colab_type": "code",
        "colab": {}
      },
      "source": [
        "# 2. Variable construction\n",
        "funda1.describe()\n",
        "funda1['mv']=funda1['csho']*funda1['prcc_f']\n",
        "temp = funda1.copy()"
      ],
      "execution_count": 0,
      "outputs": []
    },
    {
      "cell_type": "code",
      "metadata": {
        "id": "oFHwjNGLlhH6",
        "colab_type": "code",
        "colab": {}
      },
      "source": [
        "# generate lag variables\n",
        "funda1 = temp.copy()\n",
        "funda1_lag1= funda1[['gvkey','fyear','ni','mv']].copy() # you can use shift, but shift gives wrong lag variables when there are missing years. \n",
        "funda1_lag1['fyear']=funda1_lag1['fyear']+1\n",
        "funda1_lag1=funda1_lag1.rename(columns={'mv':'mv_lag1','ni':'ni_lag1'})\n",
        "\n",
        "funda1=pd.merge(funda1,funda1_lag1, how='left', on=['gvkey','fyear'])"
      ],
      "execution_count": 0,
      "outputs": []
    },
    {
      "cell_type": "code",
      "metadata": {
        "id": "UCzFziMjljEH",
        "colab_type": "code",
        "outputId": "43831927-bc5c-4a7a-bac6-7c48ffd6125d",
        "colab": {
          "base_uri": "https://localhost:8080/",
          "height": 204
        }
      },
      "source": [
        "funda1.head()"
      ],
      "execution_count": 13,
      "outputs": [
        {
          "output_type": "execute_result",
          "data": {
            "text/html": [
              "<div>\n",
              "<style scoped>\n",
              "    .dataframe tbody tr th:only-of-type {\n",
              "        vertical-align: middle;\n",
              "    }\n",
              "\n",
              "    .dataframe tbody tr th {\n",
              "        vertical-align: top;\n",
              "    }\n",
              "\n",
              "    .dataframe thead th {\n",
              "        text-align: right;\n",
              "    }\n",
              "</style>\n",
              "<table border=\"1\" class=\"dataframe\">\n",
              "  <thead>\n",
              "    <tr style=\"text-align: right;\">\n",
              "      <th></th>\n",
              "      <th>gvkey</th>\n",
              "      <th>fyear</th>\n",
              "      <th>ni</th>\n",
              "      <th>csho</th>\n",
              "      <th>prcc_f</th>\n",
              "      <th>sic1</th>\n",
              "      <th>mv</th>\n",
              "      <th>ni_lag1</th>\n",
              "      <th>mv_lag1</th>\n",
              "    </tr>\n",
              "  </thead>\n",
              "  <tbody>\n",
              "    <tr>\n",
              "      <th>0</th>\n",
              "      <td>001004</td>\n",
              "      <td>2008.0</td>\n",
              "      <td>78.651</td>\n",
              "      <td>38.884</td>\n",
              "      <td>14.70</td>\n",
              "      <td>1</td>\n",
              "      <td>571.59480</td>\n",
              "      <td>NaN</td>\n",
              "      <td>NaN</td>\n",
              "    </tr>\n",
              "    <tr>\n",
              "      <th>1</th>\n",
              "      <td>001004</td>\n",
              "      <td>2009.0</td>\n",
              "      <td>44.628</td>\n",
              "      <td>39.484</td>\n",
              "      <td>19.70</td>\n",
              "      <td>1</td>\n",
              "      <td>777.83480</td>\n",
              "      <td>78.651</td>\n",
              "      <td>571.59480</td>\n",
              "    </tr>\n",
              "    <tr>\n",
              "      <th>2</th>\n",
              "      <td>001004</td>\n",
              "      <td>2010.0</td>\n",
              "      <td>69.826</td>\n",
              "      <td>39.781</td>\n",
              "      <td>26.39</td>\n",
              "      <td>1</td>\n",
              "      <td>1049.82059</td>\n",
              "      <td>44.628</td>\n",
              "      <td>777.83480</td>\n",
              "    </tr>\n",
              "    <tr>\n",
              "      <th>3</th>\n",
              "      <td>001004</td>\n",
              "      <td>2011.0</td>\n",
              "      <td>67.723</td>\n",
              "      <td>40.273</td>\n",
              "      <td>12.05</td>\n",
              "      <td>1</td>\n",
              "      <td>485.28965</td>\n",
              "      <td>69.826</td>\n",
              "      <td>1049.82059</td>\n",
              "    </tr>\n",
              "    <tr>\n",
              "      <th>4</th>\n",
              "      <td>001004</td>\n",
              "      <td>2012.0</td>\n",
              "      <td>55.000</td>\n",
              "      <td>39.382</td>\n",
              "      <td>20.06</td>\n",
              "      <td>1</td>\n",
              "      <td>790.00292</td>\n",
              "      <td>67.723</td>\n",
              "      <td>485.28965</td>\n",
              "    </tr>\n",
              "  </tbody>\n",
              "</table>\n",
              "</div>"
            ],
            "text/plain": [
              "    gvkey   fyear      ni    csho  ...  sic1          mv  ni_lag1     mv_lag1\n",
              "0  001004  2008.0  78.651  38.884  ...     1   571.59480      NaN         NaN\n",
              "1  001004  2009.0  44.628  39.484  ...     1   777.83480   78.651   571.59480\n",
              "2  001004  2010.0  69.826  39.781  ...     1  1049.82059   44.628   777.83480\n",
              "3  001004  2011.0  67.723  40.273  ...     1   485.28965   69.826  1049.82059\n",
              "4  001004  2012.0  55.000  39.382  ...     1   790.00292   67.723   485.28965\n",
              "\n",
              "[5 rows x 9 columns]"
            ]
          },
          "metadata": {
            "tags": []
          },
          "execution_count": 13
        }
      ]
    },
    {
      "cell_type": "code",
      "metadata": {
        "id": "BHZ6WkObmvPW",
        "colab_type": "code",
        "outputId": "a0e54098-8310-4fcf-f59f-ccae47fe2d9b",
        "colab": {
          "base_uri": "https://localhost:8080/",
          "height": 297
        }
      },
      "source": [
        "# generate test variables\n",
        "funda1=funda1.rename(columns={'ni':'earn'})\n",
        "    # scale earn with mv_lag1 and earnchg with mv_lag2\n",
        "funda1=funda1.dropna()\n",
        "funda1[['earn','mv_lag1']].describe()\n"
      ],
      "execution_count": 14,
      "outputs": [
        {
          "output_type": "execute_result",
          "data": {
            "text/html": [
              "<div>\n",
              "<style scoped>\n",
              "    .dataframe tbody tr th:only-of-type {\n",
              "        vertical-align: middle;\n",
              "    }\n",
              "\n",
              "    .dataframe tbody tr th {\n",
              "        vertical-align: top;\n",
              "    }\n",
              "\n",
              "    .dataframe thead th {\n",
              "        text-align: right;\n",
              "    }\n",
              "</style>\n",
              "<table border=\"1\" class=\"dataframe\">\n",
              "  <thead>\n",
              "    <tr style=\"text-align: right;\">\n",
              "      <th></th>\n",
              "      <th>earn</th>\n",
              "      <th>mv_lag1</th>\n",
              "    </tr>\n",
              "  </thead>\n",
              "  <tbody>\n",
              "    <tr>\n",
              "      <th>count</th>\n",
              "      <td>69640.000000</td>\n",
              "      <td>69640.000000</td>\n",
              "    </tr>\n",
              "    <tr>\n",
              "      <th>mean</th>\n",
              "      <td>253.671076</td>\n",
              "      <td>4546.964378</td>\n",
              "    </tr>\n",
              "    <tr>\n",
              "      <th>std</th>\n",
              "      <td>1688.614432</td>\n",
              "      <td>19980.263131</td>\n",
              "    </tr>\n",
              "    <tr>\n",
              "      <th>min</th>\n",
              "      <td>-71969.000000</td>\n",
              "      <td>0.000003</td>\n",
              "    </tr>\n",
              "    <tr>\n",
              "      <th>25%</th>\n",
              "      <td>-5.508250</td>\n",
              "      <td>34.005656</td>\n",
              "    </tr>\n",
              "    <tr>\n",
              "      <th>50%</th>\n",
              "      <td>2.661000</td>\n",
              "      <td>237.094140</td>\n",
              "    </tr>\n",
              "    <tr>\n",
              "      <th>75%</th>\n",
              "      <td>66.889000</td>\n",
              "      <td>1630.579510</td>\n",
              "    </tr>\n",
              "    <tr>\n",
              "      <th>max</th>\n",
              "      <td>104821.000000</td>\n",
              "      <td>790050.098120</td>\n",
              "    </tr>\n",
              "  </tbody>\n",
              "</table>\n",
              "</div>"
            ],
            "text/plain": [
              "                earn        mv_lag1\n",
              "count   69640.000000   69640.000000\n",
              "mean      253.671076    4546.964378\n",
              "std      1688.614432   19980.263131\n",
              "min    -71969.000000       0.000003\n",
              "25%        -5.508250      34.005656\n",
              "50%         2.661000     237.094140\n",
              "75%        66.889000    1630.579510\n",
              "max    104821.000000  790050.098120"
            ]
          },
          "metadata": {
            "tags": []
          },
          "execution_count": 14
        }
      ]
    },
    {
      "cell_type": "code",
      "metadata": {
        "id": "pcIS5YB2oxSq",
        "colab_type": "code",
        "colab": {}
      },
      "source": [
        "# winsorize before doing scales.\n",
        "varlist=['earn','mv_lag1']\n",
        "for var in varlist:\n",
        "    funda1[var] = funda1[var].replace(np.Inf, np.nan)\n",
        "    funda1[var]=np.where(funda1[var].isnull(), np.nan, winsorize(funda1[var], limits=(0.01,0.01)))\n",
        "\n",
        "funda1['earn_s']=funda1['earn']/funda1['mv_lag1']\n",
        "fundax=funda1[['gvkey','fyear','earn_s']]"
      ],
      "execution_count": 0,
      "outputs": []
    },
    {
      "cell_type": "code",
      "metadata": {
        "id": "xJvKnrJWpLj0",
        "colab_type": "code",
        "outputId": "6995c1dd-f46b-4ebb-8c24-9cfde007e9d9",
        "colab": {
          "base_uri": "https://localhost:8080/",
          "height": 419
        }
      },
      "source": [
        "fundax"
      ],
      "execution_count": 0,
      "outputs": [
        {
          "output_type": "execute_result",
          "data": {
            "text/html": [
              "<div>\n",
              "<style scoped>\n",
              "    .dataframe tbody tr th:only-of-type {\n",
              "        vertical-align: middle;\n",
              "    }\n",
              "\n",
              "    .dataframe tbody tr th {\n",
              "        vertical-align: top;\n",
              "    }\n",
              "\n",
              "    .dataframe thead th {\n",
              "        text-align: right;\n",
              "    }\n",
              "</style>\n",
              "<table border=\"1\" class=\"dataframe\">\n",
              "  <thead>\n",
              "    <tr style=\"text-align: right;\">\n",
              "      <th></th>\n",
              "      <th>gvkey</th>\n",
              "      <th>fyear</th>\n",
              "      <th>earn_s</th>\n",
              "    </tr>\n",
              "  </thead>\n",
              "  <tbody>\n",
              "    <tr>\n",
              "      <th>1</th>\n",
              "      <td>001000</td>\n",
              "      <td>1975.0</td>\n",
              "      <td>0.499918</td>\n",
              "    </tr>\n",
              "    <tr>\n",
              "      <th>2</th>\n",
              "      <td>001000</td>\n",
              "      <td>1976.0</td>\n",
              "      <td>0.374125</td>\n",
              "    </tr>\n",
              "    <tr>\n",
              "      <th>3</th>\n",
              "      <td>001000</td>\n",
              "      <td>1977.0</td>\n",
              "      <td>0.151928</td>\n",
              "    </tr>\n",
              "    <tr>\n",
              "      <th>10</th>\n",
              "      <td>001001</td>\n",
              "      <td>1984.0</td>\n",
              "      <td>0.043993</td>\n",
              "    </tr>\n",
              "    <tr>\n",
              "      <th>11</th>\n",
              "      <td>001001</td>\n",
              "      <td>1985.0</td>\n",
              "      <td>0.192526</td>\n",
              "    </tr>\n",
              "    <tr>\n",
              "      <th>...</th>\n",
              "      <td>...</td>\n",
              "      <td>...</td>\n",
              "      <td>...</td>\n",
              "    </tr>\n",
              "    <tr>\n",
              "      <th>152637</th>\n",
              "      <td>153954</td>\n",
              "      <td>1990.0</td>\n",
              "      <td>0.027478</td>\n",
              "    </tr>\n",
              "    <tr>\n",
              "      <th>152638</th>\n",
              "      <td>153954</td>\n",
              "      <td>1991.0</td>\n",
              "      <td>-0.104000</td>\n",
              "    </tr>\n",
              "    <tr>\n",
              "      <th>152639</th>\n",
              "      <td>153954</td>\n",
              "      <td>1992.0</td>\n",
              "      <td>-0.279759</td>\n",
              "    </tr>\n",
              "    <tr>\n",
              "      <th>152653</th>\n",
              "      <td>187839</td>\n",
              "      <td>1988.0</td>\n",
              "      <td>-1.884774</td>\n",
              "    </tr>\n",
              "    <tr>\n",
              "      <th>152673</th>\n",
              "      <td>220508</td>\n",
              "      <td>1994.0</td>\n",
              "      <td>0.030074</td>\n",
              "    </tr>\n",
              "  </tbody>\n",
              "</table>\n",
              "<p>90219 rows × 3 columns</p>\n",
              "</div>"
            ],
            "text/plain": [
              "         gvkey   fyear    earn_s\n",
              "1       001000  1975.0  0.499918\n",
              "2       001000  1976.0  0.374125\n",
              "3       001000  1977.0  0.151928\n",
              "10      001001  1984.0  0.043993\n",
              "11      001001  1985.0  0.192526\n",
              "...        ...     ...       ...\n",
              "152637  153954  1990.0  0.027478\n",
              "152638  153954  1991.0 -0.104000\n",
              "152639  153954  1992.0 -0.279759\n",
              "152653  187839  1988.0 -1.884774\n",
              "152673  220508  1994.0  0.030074\n",
              "\n",
              "[90219 rows x 3 columns]"
            ]
          },
          "metadata": {
            "tags": []
          },
          "execution_count": 38
        }
      ]
    },
    {
      "cell_type": "code",
      "metadata": {
        "id": "Y_FS4Wz4nFP5",
        "colab_type": "code",
        "colab": {}
      },
      "source": [
        "# winsorize again for the scaled variables. \n",
        "funda2=fundax.dropna()\n",
        "funda2.describe()\n",
        "\n",
        "varlist=['earn_s']\n",
        "for var in varlist:\n",
        "    funda2[var] = funda2[var].replace(np.Inf, np.nan)\n",
        "    funda2[var]=np.where(funda2[var].isnull(), np.nan, winsorize(funda2[var], limits=(0.01,0.01)))\n",
        "\n"
      ],
      "execution_count": 0,
      "outputs": []
    },
    {
      "cell_type": "code",
      "metadata": {
        "id": "8nD1k2YHn1gL",
        "colab_type": "code",
        "outputId": "2c745a8a-1133-48a4-f3bd-b277f584c296",
        "colab": {
          "base_uri": "https://localhost:8080/",
          "height": 390
        }
      },
      "source": [
        "# Table 1\n",
        "destable=funda2.describe().transpose()  # pooled sample\n",
        "desearn_s=funda2.groupby('fyear')['earn_s'].describe() # Table 1 Panel A\n",
        "desearn_s"
      ],
      "execution_count": 17,
      "outputs": [
        {
          "output_type": "execute_result",
          "data": {
            "text/html": [
              "<div>\n",
              "<style scoped>\n",
              "    .dataframe tbody tr th:only-of-type {\n",
              "        vertical-align: middle;\n",
              "    }\n",
              "\n",
              "    .dataframe tbody tr th {\n",
              "        vertical-align: top;\n",
              "    }\n",
              "\n",
              "    .dataframe thead th {\n",
              "        text-align: right;\n",
              "    }\n",
              "</style>\n",
              "<table border=\"1\" class=\"dataframe\">\n",
              "  <thead>\n",
              "    <tr style=\"text-align: right;\">\n",
              "      <th></th>\n",
              "      <th>count</th>\n",
              "      <th>mean</th>\n",
              "      <th>std</th>\n",
              "      <th>min</th>\n",
              "      <th>25%</th>\n",
              "      <th>50%</th>\n",
              "      <th>75%</th>\n",
              "      <th>max</th>\n",
              "    </tr>\n",
              "    <tr>\n",
              "      <th>fyear</th>\n",
              "      <th></th>\n",
              "      <th></th>\n",
              "      <th></th>\n",
              "      <th></th>\n",
              "      <th></th>\n",
              "      <th></th>\n",
              "      <th></th>\n",
              "      <th></th>\n",
              "    </tr>\n",
              "  </thead>\n",
              "  <tbody>\n",
              "    <tr>\n",
              "      <th>2009.0</th>\n",
              "      <td>7196.0</td>\n",
              "      <td>-0.229937</td>\n",
              "      <td>0.769085</td>\n",
              "      <td>-3.894488</td>\n",
              "      <td>-0.211563</td>\n",
              "      <td>0.010059</td>\n",
              "      <td>0.080624</td>\n",
              "      <td>0.769967</td>\n",
              "    </tr>\n",
              "    <tr>\n",
              "      <th>2010.0</th>\n",
              "      <td>6957.0</td>\n",
              "      <td>-0.092607</td>\n",
              "      <td>0.534760</td>\n",
              "      <td>-3.894488</td>\n",
              "      <td>-0.092762</td>\n",
              "      <td>0.037429</td>\n",
              "      <td>0.084466</td>\n",
              "      <td>0.769967</td>\n",
              "    </tr>\n",
              "    <tr>\n",
              "      <th>2011.0</th>\n",
              "      <td>6975.0</td>\n",
              "      <td>-0.073209</td>\n",
              "      <td>0.457155</td>\n",
              "      <td>-3.894488</td>\n",
              "      <td>-0.076399</td>\n",
              "      <td>0.032613</td>\n",
              "      <td>0.076733</td>\n",
              "      <td>0.769967</td>\n",
              "    </tr>\n",
              "    <tr>\n",
              "      <th>2012.0</th>\n",
              "      <td>6897.0</td>\n",
              "      <td>-0.090529</td>\n",
              "      <td>0.498447</td>\n",
              "      <td>-3.894488</td>\n",
              "      <td>-0.100277</td>\n",
              "      <td>0.033770</td>\n",
              "      <td>0.081130</td>\n",
              "      <td>0.769967</td>\n",
              "    </tr>\n",
              "    <tr>\n",
              "      <th>2013.0</th>\n",
              "      <td>7262.0</td>\n",
              "      <td>-0.117866</td>\n",
              "      <td>0.535016</td>\n",
              "      <td>-3.894488</td>\n",
              "      <td>-0.123378</td>\n",
              "      <td>0.024540</td>\n",
              "      <td>0.075198</td>\n",
              "      <td>0.769967</td>\n",
              "    </tr>\n",
              "    <tr>\n",
              "      <th>2014.0</th>\n",
              "      <td>7302.0</td>\n",
              "      <td>-0.130140</td>\n",
              "      <td>0.554068</td>\n",
              "      <td>-3.894488</td>\n",
              "      <td>-0.112419</td>\n",
              "      <td>0.021527</td>\n",
              "      <td>0.062360</td>\n",
              "      <td>0.769967</td>\n",
              "    </tr>\n",
              "    <tr>\n",
              "      <th>2015.0</th>\n",
              "      <td>7246.0</td>\n",
              "      <td>-0.160244</td>\n",
              "      <td>0.581683</td>\n",
              "      <td>-3.894488</td>\n",
              "      <td>-0.138569</td>\n",
              "      <td>0.010179</td>\n",
              "      <td>0.057228</td>\n",
              "      <td>0.769967</td>\n",
              "    </tr>\n",
              "    <tr>\n",
              "      <th>2016.0</th>\n",
              "      <td>6996.0</td>\n",
              "      <td>-0.168110</td>\n",
              "      <td>0.620608</td>\n",
              "      <td>-3.894488</td>\n",
              "      <td>-0.146582</td>\n",
              "      <td>0.015096</td>\n",
              "      <td>0.064281</td>\n",
              "      <td>0.769967</td>\n",
              "    </tr>\n",
              "    <tr>\n",
              "      <th>2017.0</th>\n",
              "      <td>6733.0</td>\n",
              "      <td>-0.130240</td>\n",
              "      <td>0.562298</td>\n",
              "      <td>-3.894488</td>\n",
              "      <td>-0.116045</td>\n",
              "      <td>0.019964</td>\n",
              "      <td>0.062220</td>\n",
              "      <td>0.769967</td>\n",
              "    </tr>\n",
              "    <tr>\n",
              "      <th>2018.0</th>\n",
              "      <td>6076.0</td>\n",
              "      <td>-0.096552</td>\n",
              "      <td>0.472227</td>\n",
              "      <td>-3.894488</td>\n",
              "      <td>-0.098679</td>\n",
              "      <td>0.021251</td>\n",
              "      <td>0.065455</td>\n",
              "      <td>0.769967</td>\n",
              "    </tr>\n",
              "  </tbody>\n",
              "</table>\n",
              "</div>"
            ],
            "text/plain": [
              "         count      mean       std  ...       50%       75%       max\n",
              "fyear                               ...                              \n",
              "2009.0  7196.0 -0.229937  0.769085  ...  0.010059  0.080624  0.769967\n",
              "2010.0  6957.0 -0.092607  0.534760  ...  0.037429  0.084466  0.769967\n",
              "2011.0  6975.0 -0.073209  0.457155  ...  0.032613  0.076733  0.769967\n",
              "2012.0  6897.0 -0.090529  0.498447  ...  0.033770  0.081130  0.769967\n",
              "2013.0  7262.0 -0.117866  0.535016  ...  0.024540  0.075198  0.769967\n",
              "2014.0  7302.0 -0.130140  0.554068  ...  0.021527  0.062360  0.769967\n",
              "2015.0  7246.0 -0.160244  0.581683  ...  0.010179  0.057228  0.769967\n",
              "2016.0  6996.0 -0.168110  0.620608  ...  0.015096  0.064281  0.769967\n",
              "2017.0  6733.0 -0.130240  0.562298  ...  0.019964  0.062220  0.769967\n",
              "2018.0  6076.0 -0.096552  0.472227  ...  0.021251  0.065455  0.769967\n",
              "\n",
              "[10 rows x 8 columns]"
            ]
          },
          "metadata": {
            "tags": []
          },
          "execution_count": 17
        }
      ]
    },
    {
      "cell_type": "code",
      "metadata": {
        "id": "y3_2SR6qn3W_",
        "colab_type": "code",
        "outputId": "413f8019-c9aa-4c69-cbdb-2dfa76f37b41",
        "colab": {
          "base_uri": "https://localhost:8080/",
          "height": 312
        }
      },
      "source": [
        "# Figure 3\n",
        "import matplotlib.pyplot as plt\n",
        "\n",
        "plt.xlim(-1,1)\n",
        "plt.hist(funda2['earn_s'], bins=55)\n",
        "plt.axvline(x=0, color='k', linestyle='--')\n",
        "plt.xlabel('Earnings Interval')\n",
        "plt.ylabel('Frequency')\n",
        "plt.title('Fig.3. Empirical distribution annual net income between 2009-2018')\n",
        "plt.show"
      ],
      "execution_count": 22,
      "outputs": [
        {
          "output_type": "execute_result",
          "data": {
            "text/plain": [
              "<function matplotlib.pyplot.show>"
            ]
          },
          "metadata": {
            "tags": []
          },
          "execution_count": 22
        },
        {
          "output_type": "display_data",
          "data": {
            "image/png": "[encoded data removed]",
            "text/plain": [
              "<Figure size 432x288 with 1 Axes>"
            ]
          },
          "metadata": {
            "tags": []
          }
        }
      ]
    },
    {
      "cell_type": "code",
      "metadata": {
        "id": "dhdWryt5n5uK",
        "colab_type": "code",
        "colab": {}
      },
      "source": [
        "# generate lag1 variables\n",
        "funda1 = temp.copy()\n",
        "funda1_lag1= funda1[['gvkey','fyear','ni','mv']].copy() # you can use shift, but shift gives wrong lag variables when there are missing years. \n",
        "funda1_lag1['fyear']=funda1_lag1['fyear']+1\n",
        "funda1_lag1=funda1_lag1.rename(columns={'mv':'mv_lag1','ni':'ni_lag1'})\n",
        "\n",
        "funda1=pd.merge(funda1,funda1_lag1, how='left', on=['gvkey','fyear'])"
      ],
      "execution_count": 0,
      "outputs": []
    },
    {
      "cell_type": "code",
      "metadata": {
        "id": "N36HhsZkuxDD",
        "colab_type": "code",
        "colab": {}
      },
      "source": [
        "# generate lag2 variables\n",
        "funda1_lag2= funda1[['gvkey','fyear','ni','mv']].copy() # you can use shift, but shift gives wrong lag variables when there are missing years. \n",
        "funda1_lag2['fyear']=funda1_lag2['fyear']+2\n",
        "funda1_lag2=funda1_lag2.rename(columns={'mv':'mv_lag2','ni':'ni_lag2'})\n",
        "\n",
        "funda1=pd.merge(funda1,funda1_lag2, how='left', on=['gvkey','fyear'])"
      ],
      "execution_count": 0,
      "outputs": []
    },
    {
      "cell_type": "code",
      "metadata": {
        "id": "MToOXqKy8BNg",
        "colab_type": "code",
        "colab": {}
      },
      "source": [
        ""
      ],
      "execution_count": 0,
      "outputs": []
    },
    {
      "cell_type": "markdown",
      "metadata": {
        "id": "sFTMLFjq8BxW",
        "colab_type": "text"
      },
      "source": [
        "# Change in Earnings"
      ]
    },
    {
      "cell_type": "code",
      "metadata": {
        "id": "cORwRWknuziY",
        "colab_type": "code",
        "colab": {}
      },
      "source": [
        "# generate lag1 variables\n",
        "funda1 = temp.copy()\n",
        "funda1_lag1= funda1[['gvkey','fyear','ni']].copy()\n",
        "funda1_lag1['fyear']=funda1_lag1['fyear']+1\n",
        "funda1_lag1=funda1_lag1.rename(columns={'ni':'ni_lag1'})\n",
        "\n",
        "\n",
        "# generate lag2 variables\n",
        "funda1_lag2= funda1[['gvkey','fyear','mv']].copy()\n",
        "funda1_lag2['fyear']=funda1_lag2['fyear']+2\n",
        "funda1_lag2=funda1_lag2.rename(columns={'mv':'mv_lag2'})\n",
        "\n",
        "#Merge table\n",
        "funda1=pd.merge(funda1,funda1_lag1, how='left', on=['gvkey','fyear'])\n",
        "funda1=pd.merge(funda1,funda1_lag2, how='left', on=['gvkey','fyear'])\n",
        "\n",
        "#Show table\n",
        "funda1[['gvkey','gvkey','ni','ni_lag1','mv_lag2']]\n",
        "temp_funda1 = funda1.copy()"
      ],
      "execution_count": 0,
      "outputs": []
    },
    {
      "cell_type": "code",
      "metadata": {
        "id": "QDhA3iy3wEn2",
        "colab_type": "code",
        "outputId": "2ecf418c-805f-413f-b4e6-d211405df382",
        "colab": {
          "base_uri": "https://localhost:8080/",
          "height": 297
        }
      },
      "source": [
        "funda1 = temp_funda1.copy()\n",
        "funda1=funda1.dropna()\n",
        "funda1[['ni','ni_lag1','mv_lag2']].describe()"
      ],
      "execution_count": 24,
      "outputs": [
        {
          "output_type": "execute_result",
          "data": {
            "text/html": [
              "<div>\n",
              "<style scoped>\n",
              "    .dataframe tbody tr th:only-of-type {\n",
              "        vertical-align: middle;\n",
              "    }\n",
              "\n",
              "    .dataframe tbody tr th {\n",
              "        vertical-align: top;\n",
              "    }\n",
              "\n",
              "    .dataframe thead th {\n",
              "        text-align: right;\n",
              "    }\n",
              "</style>\n",
              "<table border=\"1\" class=\"dataframe\">\n",
              "  <thead>\n",
              "    <tr style=\"text-align: right;\">\n",
              "      <th></th>\n",
              "      <th>ni</th>\n",
              "      <th>ni_lag1</th>\n",
              "      <th>mv_lag2</th>\n",
              "    </tr>\n",
              "  </thead>\n",
              "  <tbody>\n",
              "    <tr>\n",
              "      <th>count</th>\n",
              "      <td>58392.000000</td>\n",
              "      <td>58392.000000</td>\n",
              "      <td>58392.000000</td>\n",
              "    </tr>\n",
              "    <tr>\n",
              "      <th>mean</th>\n",
              "      <td>281.386942</td>\n",
              "      <td>262.466898</td>\n",
              "      <td>4591.973087</td>\n",
              "    </tr>\n",
              "    <tr>\n",
              "      <th>std</th>\n",
              "      <td>1717.567676</td>\n",
              "      <td>1737.217888</td>\n",
              "      <td>19384.319074</td>\n",
              "    </tr>\n",
              "    <tr>\n",
              "      <th>min</th>\n",
              "      <td>-23119.000000</td>\n",
              "      <td>-71969.000000</td>\n",
              "      <td>0.000000</td>\n",
              "    </tr>\n",
              "    <tr>\n",
              "      <th>25%</th>\n",
              "      <td>-4.913000</td>\n",
              "      <td>-4.929250</td>\n",
              "      <td>36.096475</td>\n",
              "    </tr>\n",
              "    <tr>\n",
              "      <th>50%</th>\n",
              "      <td>3.949500</td>\n",
              "      <td>3.462500</td>\n",
              "      <td>251.689200</td>\n",
              "    </tr>\n",
              "    <tr>\n",
              "      <th>75%</th>\n",
              "      <td>80.862500</td>\n",
              "      <td>71.752500</td>\n",
              "      <td>1696.068335</td>\n",
              "    </tr>\n",
              "    <tr>\n",
              "      <th>max</th>\n",
              "      <td>98806.045000</td>\n",
              "      <td>104821.000000</td>\n",
              "      <td>626550.352840</td>\n",
              "    </tr>\n",
              "  </tbody>\n",
              "</table>\n",
              "</div>"
            ],
            "text/plain": [
              "                 ni        ni_lag1        mv_lag2\n",
              "count  58392.000000   58392.000000   58392.000000\n",
              "mean     281.386942     262.466898    4591.973087\n",
              "std     1717.567676    1737.217888   19384.319074\n",
              "min   -23119.000000  -71969.000000       0.000000\n",
              "25%       -4.913000      -4.929250      36.096475\n",
              "50%        3.949500       3.462500     251.689200\n",
              "75%       80.862500      71.752500    1696.068335\n",
              "max    98806.045000  104821.000000  626550.352840"
            ]
          },
          "metadata": {
            "tags": []
          },
          "execution_count": 24
        }
      ]
    },
    {
      "cell_type": "code",
      "metadata": {
        "id": "kt_f2w7B8Hmu",
        "colab_type": "code",
        "outputId": "a364158e-e46b-4d4d-8b07-052ff674ccec",
        "colab": {
          "base_uri": "https://localhost:8080/",
          "height": 297
        }
      },
      "source": [
        "# winsorize before doing scales.\n",
        "varlist=['ni','ni_lag1','mv_lag2']\n",
        "for var in varlist:\n",
        "    funda1[var] = funda1[var].replace(np.Inf, np.nan)\n",
        "    funda1[var]=np.where(funda1[var].isnull(), np.nan, winsorize(funda1[var], limits=(0.05,0.05)))\n",
        "funda1[['ni','ni_lag1','mv_lag2']].describe()"
      ],
      "execution_count": 25,
      "outputs": [
        {
          "output_type": "execute_result",
          "data": {
            "text/html": [
              "<div>\n",
              "<style scoped>\n",
              "    .dataframe tbody tr th:only-of-type {\n",
              "        vertical-align: middle;\n",
              "    }\n",
              "\n",
              "    .dataframe tbody tr th {\n",
              "        vertical-align: top;\n",
              "    }\n",
              "\n",
              "    .dataframe thead th {\n",
              "        text-align: right;\n",
              "    }\n",
              "</style>\n",
              "<table border=\"1\" class=\"dataframe\">\n",
              "  <thead>\n",
              "    <tr style=\"text-align: right;\">\n",
              "      <th></th>\n",
              "      <th>ni</th>\n",
              "      <th>ni_lag1</th>\n",
              "      <th>mv_lag2</th>\n",
              "    </tr>\n",
              "  </thead>\n",
              "  <tbody>\n",
              "    <tr>\n",
              "      <th>count</th>\n",
              "      <td>58392.000000</td>\n",
              "      <td>58392.000000</td>\n",
              "      <td>58392.000000</td>\n",
              "    </tr>\n",
              "    <tr>\n",
              "      <th>mean</th>\n",
              "      <td>135.318266</td>\n",
              "      <td>124.234615</td>\n",
              "      <td>2440.915832</td>\n",
              "    </tr>\n",
              "    <tr>\n",
              "      <th>std</th>\n",
              "      <td>338.091460</td>\n",
              "      <td>314.309967</td>\n",
              "      <td>5116.356010</td>\n",
              "    </tr>\n",
              "    <tr>\n",
              "      <th>min</th>\n",
              "      <td>-97.106000</td>\n",
              "      <td>-92.000000</td>\n",
              "      <td>3.115200</td>\n",
              "    </tr>\n",
              "    <tr>\n",
              "      <th>25%</th>\n",
              "      <td>-4.913000</td>\n",
              "      <td>-4.929250</td>\n",
              "      <td>36.096475</td>\n",
              "    </tr>\n",
              "    <tr>\n",
              "      <th>50%</th>\n",
              "      <td>3.949500</td>\n",
              "      <td>3.462500</td>\n",
              "      <td>251.689200</td>\n",
              "    </tr>\n",
              "    <tr>\n",
              "      <th>75%</th>\n",
              "      <td>80.862500</td>\n",
              "      <td>71.752500</td>\n",
              "      <td>1696.068335</td>\n",
              "    </tr>\n",
              "    <tr>\n",
              "      <th>max</th>\n",
              "      <td>1322.517000</td>\n",
              "      <td>1232.950000</td>\n",
              "      <td>20240.418630</td>\n",
              "    </tr>\n",
              "  </tbody>\n",
              "</table>\n",
              "</div>"
            ],
            "text/plain": [
              "                 ni       ni_lag1       mv_lag2\n",
              "count  58392.000000  58392.000000  58392.000000\n",
              "mean     135.318266    124.234615   2440.915832\n",
              "std      338.091460    314.309967   5116.356010\n",
              "min      -97.106000    -92.000000      3.115200\n",
              "25%       -4.913000     -4.929250     36.096475\n",
              "50%        3.949500      3.462500    251.689200\n",
              "75%       80.862500     71.752500   1696.068335\n",
              "max     1322.517000   1232.950000  20240.418630"
            ]
          },
          "metadata": {
            "tags": []
          },
          "execution_count": 25
        }
      ]
    },
    {
      "cell_type": "code",
      "metadata": {
        "id": "ydJ4f2if82Uo",
        "colab_type": "code",
        "colab": {}
      },
      "source": [
        "funda1['earn_change']=(funda1['ni']-funda1['ni_lag1'])/funda1['mv_lag2']\n",
        "fundax=funda1[['gvkey','fyear','earn_change']]"
      ],
      "execution_count": 0,
      "outputs": []
    },
    {
      "cell_type": "code",
      "metadata": {
        "id": "M9HhVXIw84gr",
        "colab_type": "code",
        "outputId": "d655eb84-244e-4b15-c20d-41b05bbc8fdd",
        "colab": {
          "base_uri": "https://localhost:8080/",
          "height": 297
        }
      },
      "source": [
        "fundax[['earn_change']].describe()"
      ],
      "execution_count": 27,
      "outputs": [
        {
          "output_type": "execute_result",
          "data": {
            "text/html": [
              "<div>\n",
              "<style scoped>\n",
              "    .dataframe tbody tr th:only-of-type {\n",
              "        vertical-align: middle;\n",
              "    }\n",
              "\n",
              "    .dataframe tbody tr th {\n",
              "        vertical-align: top;\n",
              "    }\n",
              "\n",
              "    .dataframe thead th {\n",
              "        text-align: right;\n",
              "    }\n",
              "</style>\n",
              "<table border=\"1\" class=\"dataframe\">\n",
              "  <thead>\n",
              "    <tr style=\"text-align: right;\">\n",
              "      <th></th>\n",
              "      <th>earn_change</th>\n",
              "    </tr>\n",
              "  </thead>\n",
              "  <tbody>\n",
              "    <tr>\n",
              "      <th>count</th>\n",
              "      <td>58392.000000</td>\n",
              "    </tr>\n",
              "    <tr>\n",
              "      <th>mean</th>\n",
              "      <td>-0.017718</td>\n",
              "    </tr>\n",
              "    <tr>\n",
              "      <th>std</th>\n",
              "      <td>4.307713</td>\n",
              "    </tr>\n",
              "    <tr>\n",
              "      <th>min</th>\n",
              "      <td>-426.956857</td>\n",
              "    </tr>\n",
              "    <tr>\n",
              "      <th>25%</th>\n",
              "      <td>-0.030062</td>\n",
              "    </tr>\n",
              "    <tr>\n",
              "      <th>50%</th>\n",
              "      <td>0.004425</td>\n",
              "    </tr>\n",
              "    <tr>\n",
              "      <th>75%</th>\n",
              "      <td>0.042230</td>\n",
              "    </tr>\n",
              "    <tr>\n",
              "      <th>max</th>\n",
              "      <td>346.270544</td>\n",
              "    </tr>\n",
              "  </tbody>\n",
              "</table>\n",
              "</div>"
            ],
            "text/plain": [
              "        earn_change\n",
              "count  58392.000000\n",
              "mean      -0.017718\n",
              "std        4.307713\n",
              "min     -426.956857\n",
              "25%       -0.030062\n",
              "50%        0.004425\n",
              "75%        0.042230\n",
              "max      346.270544"
            ]
          },
          "metadata": {
            "tags": []
          },
          "execution_count": 27
        }
      ]
    },
    {
      "cell_type": "code",
      "metadata": {
        "id": "o35WgSvK9ASX",
        "colab_type": "code",
        "outputId": "79be4ec2-603b-4e85-b0d8-a4edc0adfcb6",
        "colab": {
          "base_uri": "https://localhost:8080/",
          "height": 501
        }
      },
      "source": [
        "varlist=['earn_change']\n",
        "for var in varlist:\n",
        "    fundax[var] = fundax[var].replace(np.Inf, np.nan)\n",
        "    fundax[var]=np.where(fundax[var].isnull(), np.nan, winsorize(fundax[var], limits=(0.02,0.02)))\n",
        "fundax[['earn_change']].describe()"
      ],
      "execution_count": 28,
      "outputs": [
        {
          "output_type": "stream",
          "text": [
            "/usr/local/lib/python3.6/dist-packages/ipykernel_launcher.py:3: SettingWithCopyWarning: \n",
            "A value is trying to be set on a copy of a slice from a DataFrame.\n",
            "Try using .loc[row_indexer,col_indexer] = value instead\n",
            "\n",
            "See the caveats in the documentation: http://pandas.pydata.org/pandas-docs/stable/user_guide/indexing.html#returning-a-view-versus-a-copy\n",
            "  This is separate from the ipykernel package so we can avoid doing imports until\n",
            "/usr/local/lib/python3.6/dist-packages/ipykernel_launcher.py:4: SettingWithCopyWarning: \n",
            "A value is trying to be set on a copy of a slice from a DataFrame.\n",
            "Try using .loc[row_indexer,col_indexer] = value instead\n",
            "\n",
            "See the caveats in the documentation: http://pandas.pydata.org/pandas-docs/stable/user_guide/indexing.html#returning-a-view-versus-a-copy\n",
            "  after removing the cwd from sys.path.\n"
          ],
          "name": "stderr"
        },
        {
          "output_type": "execute_result",
          "data": {
            "text/html": [
              "<div>\n",
              "<style scoped>\n",
              "    .dataframe tbody tr th:only-of-type {\n",
              "        vertical-align: middle;\n",
              "    }\n",
              "\n",
              "    .dataframe tbody tr th {\n",
              "        vertical-align: top;\n",
              "    }\n",
              "\n",
              "    .dataframe thead th {\n",
              "        text-align: right;\n",
              "    }\n",
              "</style>\n",
              "<table border=\"1\" class=\"dataframe\">\n",
              "  <thead>\n",
              "    <tr style=\"text-align: right;\">\n",
              "      <th></th>\n",
              "      <th>earn_change</th>\n",
              "    </tr>\n",
              "  </thead>\n",
              "  <tbody>\n",
              "    <tr>\n",
              "      <th>count</th>\n",
              "      <td>58392.000000</td>\n",
              "    </tr>\n",
              "    <tr>\n",
              "      <th>mean</th>\n",
              "      <td>0.014396</td>\n",
              "    </tr>\n",
              "    <tr>\n",
              "      <th>std</th>\n",
              "      <td>0.254672</td>\n",
              "    </tr>\n",
              "    <tr>\n",
              "      <th>min</th>\n",
              "      <td>-0.832836</td>\n",
              "    </tr>\n",
              "    <tr>\n",
              "      <th>25%</th>\n",
              "      <td>-0.030062</td>\n",
              "    </tr>\n",
              "    <tr>\n",
              "      <th>50%</th>\n",
              "      <td>0.004425</td>\n",
              "    </tr>\n",
              "    <tr>\n",
              "      <th>75%</th>\n",
              "      <td>0.042230</td>\n",
              "    </tr>\n",
              "    <tr>\n",
              "      <th>max</th>\n",
              "      <td>1.000313</td>\n",
              "    </tr>\n",
              "  </tbody>\n",
              "</table>\n",
              "</div>"
            ],
            "text/plain": [
              "        earn_change\n",
              "count  58392.000000\n",
              "mean       0.014396\n",
              "std        0.254672\n",
              "min       -0.832836\n",
              "25%       -0.030062\n",
              "50%        0.004425\n",
              "75%        0.042230\n",
              "max        1.000313"
            ]
          },
          "metadata": {
            "tags": []
          },
          "execution_count": 28
        }
      ]
    },
    {
      "cell_type": "code",
      "metadata": {
        "id": "GuH-8r1I9coQ",
        "colab_type": "code",
        "outputId": "a2eccf00-5fa7-4144-d63d-cb228fafa157",
        "colab": {
          "base_uri": "https://localhost:8080/",
          "height": 359
        }
      },
      "source": [
        "destable=fundax.describe().transpose()  # pooled sample\n",
        "desearn_s=fundax.groupby('fyear')['earn_change'].describe() # Table 1 Panel A\n",
        "desearn_s"
      ],
      "execution_count": 29,
      "outputs": [
        {
          "output_type": "execute_result",
          "data": {
            "text/html": [
              "<div>\n",
              "<style scoped>\n",
              "    .dataframe tbody tr th:only-of-type {\n",
              "        vertical-align: middle;\n",
              "    }\n",
              "\n",
              "    .dataframe tbody tr th {\n",
              "        vertical-align: top;\n",
              "    }\n",
              "\n",
              "    .dataframe thead th {\n",
              "        text-align: right;\n",
              "    }\n",
              "</style>\n",
              "<table border=\"1\" class=\"dataframe\">\n",
              "  <thead>\n",
              "    <tr style=\"text-align: right;\">\n",
              "      <th></th>\n",
              "      <th>count</th>\n",
              "      <th>mean</th>\n",
              "      <th>std</th>\n",
              "      <th>min</th>\n",
              "      <th>25%</th>\n",
              "      <th>50%</th>\n",
              "      <th>75%</th>\n",
              "      <th>max</th>\n",
              "    </tr>\n",
              "    <tr>\n",
              "      <th>fyear</th>\n",
              "      <th></th>\n",
              "      <th></th>\n",
              "      <th></th>\n",
              "      <th></th>\n",
              "      <th></th>\n",
              "      <th></th>\n",
              "      <th></th>\n",
              "      <th></th>\n",
              "    </tr>\n",
              "  </thead>\n",
              "  <tbody>\n",
              "    <tr>\n",
              "      <th>2010.0</th>\n",
              "      <td>6645.0</td>\n",
              "      <td>0.064571</td>\n",
              "      <td>0.324416</td>\n",
              "      <td>-0.832836</td>\n",
              "      <td>-0.021809</td>\n",
              "      <td>0.016104</td>\n",
              "      <td>0.113106</td>\n",
              "      <td>1.000313</td>\n",
              "    </tr>\n",
              "    <tr>\n",
              "      <th>2011.0</th>\n",
              "      <td>6440.0</td>\n",
              "      <td>0.011421</td>\n",
              "      <td>0.263409</td>\n",
              "      <td>-0.832836</td>\n",
              "      <td>-0.038283</td>\n",
              "      <td>0.004597</td>\n",
              "      <td>0.048954</td>\n",
              "      <td>1.000313</td>\n",
              "    </tr>\n",
              "    <tr>\n",
              "      <th>2012.0</th>\n",
              "      <td>6451.0</td>\n",
              "      <td>0.007777</td>\n",
              "      <td>0.219220</td>\n",
              "      <td>-0.832836</td>\n",
              "      <td>-0.031443</td>\n",
              "      <td>0.003939</td>\n",
              "      <td>0.036322</td>\n",
              "      <td>1.000313</td>\n",
              "    </tr>\n",
              "    <tr>\n",
              "      <th>2013.0</th>\n",
              "      <td>6456.0</td>\n",
              "      <td>0.009114</td>\n",
              "      <td>0.241001</td>\n",
              "      <td>-0.832836</td>\n",
              "      <td>-0.030120</td>\n",
              "      <td>0.004425</td>\n",
              "      <td>0.038510</td>\n",
              "      <td>1.000313</td>\n",
              "    </tr>\n",
              "    <tr>\n",
              "      <th>2014.0</th>\n",
              "      <td>6760.0</td>\n",
              "      <td>0.004334</td>\n",
              "      <td>0.254903</td>\n",
              "      <td>-0.832836</td>\n",
              "      <td>-0.033037</td>\n",
              "      <td>0.004425</td>\n",
              "      <td>0.036734</td>\n",
              "      <td>1.000313</td>\n",
              "    </tr>\n",
              "    <tr>\n",
              "      <th>2015.0</th>\n",
              "      <td>6715.0</td>\n",
              "      <td>-0.005083</td>\n",
              "      <td>0.237364</td>\n",
              "      <td>-0.832836</td>\n",
              "      <td>-0.037060</td>\n",
              "      <td>0.001199</td>\n",
              "      <td>0.026522</td>\n",
              "      <td>1.000313</td>\n",
              "    </tr>\n",
              "    <tr>\n",
              "      <th>2016.0</th>\n",
              "      <td>6643.0</td>\n",
              "      <td>0.016960</td>\n",
              "      <td>0.234218</td>\n",
              "      <td>-0.832836</td>\n",
              "      <td>-0.022821</td>\n",
              "      <td>0.003720</td>\n",
              "      <td>0.031532</td>\n",
              "      <td>1.000313</td>\n",
              "    </tr>\n",
              "    <tr>\n",
              "      <th>2017.0</th>\n",
              "      <td>6473.0</td>\n",
              "      <td>0.013444</td>\n",
              "      <td>0.260296</td>\n",
              "      <td>-0.832836</td>\n",
              "      <td>-0.028102</td>\n",
              "      <td>0.004425</td>\n",
              "      <td>0.043019</td>\n",
              "      <td>1.000313</td>\n",
              "    </tr>\n",
              "    <tr>\n",
              "      <th>2018.0</th>\n",
              "      <td>5809.0</td>\n",
              "      <td>0.005880</td>\n",
              "      <td>0.232864</td>\n",
              "      <td>-0.832836</td>\n",
              "      <td>-0.028470</td>\n",
              "      <td>0.004425</td>\n",
              "      <td>0.037711</td>\n",
              "      <td>1.000313</td>\n",
              "    </tr>\n",
              "  </tbody>\n",
              "</table>\n",
              "</div>"
            ],
            "text/plain": [
              "         count      mean       std  ...       50%       75%       max\n",
              "fyear                               ...                              \n",
              "2010.0  6645.0  0.064571  0.324416  ...  0.016104  0.113106  1.000313\n",
              "2011.0  6440.0  0.011421  0.263409  ...  0.004597  0.048954  1.000313\n",
              "2012.0  6451.0  0.007777  0.219220  ...  0.003939  0.036322  1.000313\n",
              "2013.0  6456.0  0.009114  0.241001  ...  0.004425  0.038510  1.000313\n",
              "2014.0  6760.0  0.004334  0.254903  ...  0.004425  0.036734  1.000313\n",
              "2015.0  6715.0 -0.005083  0.237364  ...  0.001199  0.026522  1.000313\n",
              "2016.0  6643.0  0.016960  0.234218  ...  0.003720  0.031532  1.000313\n",
              "2017.0  6473.0  0.013444  0.260296  ...  0.004425  0.043019  1.000313\n",
              "2018.0  5809.0  0.005880  0.232864  ...  0.004425  0.037711  1.000313\n",
              "\n",
              "[9 rows x 8 columns]"
            ]
          },
          "metadata": {
            "tags": []
          },
          "execution_count": 29
        }
      ]
    },
    {
      "cell_type": "code",
      "metadata": {
        "id": "O9rJwICD9fUf",
        "colab_type": "code",
        "outputId": "7100ff71-a1af-4df3-a316-a94afc00a5c4",
        "colab": {
          "base_uri": "https://localhost:8080/",
          "height": 312
        }
      },
      "source": [
        "# Figure 3\n",
        "import matplotlib.pyplot as plt\n",
        "\n",
        "plt.xlim(-0.9,1)\n",
        "plt.hist(fundax['earn_change'], bins=60)\n",
        "plt.axvline(x=0, color='k', linestyle='--')\n",
        "plt.xlabel('Change in earnings Interval')\n",
        "plt.ylabel('Frequency')\n",
        "plt.title('Fig.1. Scaled change in earnings between 2009-2018')\n",
        "plt.show"
      ],
      "execution_count": 32,
      "outputs": [
        {
          "output_type": "execute_result",
          "data": {
            "text/plain": [
              "<function matplotlib.pyplot.show>"
            ]
          },
          "metadata": {
            "tags": []
          },
          "execution_count": 32
        },
        {
          "output_type": "display_data",
          "data": {
            "image/png": "[encoded data removed]",
            "text/plain": [
              "<Figure size 432x288 with 1 Axes>"
            ]
          },
          "metadata": {
            "tags": []
          }
        }
      ]
    },
    {
      "cell_type": "code",
      "metadata": {
        "id": "DB6P6B-gv-4V",
        "colab_type": "code",
        "outputId": "4cbf88da-7b58-4073-a186-d262819652a7",
        "colab": {
          "base_uri": "https://localhost:8080/",
          "height": 297
        }
      },
      "source": [
        "\n",
        "\n",
        "\n",
        "\n",
        "\n",
        "\n",
        "# generate test variables\n",
        "# funda1=funda1.rename(columns={'ni':'earn'})\n",
        "    # scale earn with mv_lag1 and earnchg with mv_lag2\n",
        "funda1=funda1.dropna()\n",
        "funda1[['ni','ni_lag1','mv_lag2']].describe()"
      ],
      "execution_count": 0,
      "outputs": [
        {
          "output_type": "execute_result",
          "data": {
            "text/html": [
              "<div>\n",
              "<style scoped>\n",
              "    .dataframe tbody tr th:only-of-type {\n",
              "        vertical-align: middle;\n",
              "    }\n",
              "\n",
              "    .dataframe tbody tr th {\n",
              "        vertical-align: top;\n",
              "    }\n",
              "\n",
              "    .dataframe thead th {\n",
              "        text-align: right;\n",
              "    }\n",
              "</style>\n",
              "<table border=\"1\" class=\"dataframe\">\n",
              "  <thead>\n",
              "    <tr style=\"text-align: right;\">\n",
              "      <th></th>\n",
              "      <th>ni</th>\n",
              "      <th>ni_lag1</th>\n",
              "      <th>mv_lag2</th>\n",
              "    </tr>\n",
              "  </thead>\n",
              "  <tbody>\n",
              "    <tr>\n",
              "      <th>count</th>\n",
              "      <td>77254.000000</td>\n",
              "      <td>77254.000000</td>\n",
              "      <td>77254.000000</td>\n",
              "    </tr>\n",
              "    <tr>\n",
              "      <th>mean</th>\n",
              "      <td>36.438873</td>\n",
              "      <td>34.112621</td>\n",
              "      <td>497.473205</td>\n",
              "    </tr>\n",
              "    <tr>\n",
              "      <th>std</th>\n",
              "      <td>239.887753</td>\n",
              "      <td>229.023264</td>\n",
              "      <td>2350.501952</td>\n",
              "    </tr>\n",
              "    <tr>\n",
              "      <th>min</th>\n",
              "      <td>-23498.300000</td>\n",
              "      <td>-23498.300000</td>\n",
              "      <td>0.000000</td>\n",
              "    </tr>\n",
              "    <tr>\n",
              "      <th>25%</th>\n",
              "      <td>-0.268000</td>\n",
              "      <td>-0.150000</td>\n",
              "      <td>10.050313</td>\n",
              "    </tr>\n",
              "    <tr>\n",
              "      <th>50%</th>\n",
              "      <td>2.121500</td>\n",
              "      <td>2.053000</td>\n",
              "      <td>37.590000</td>\n",
              "    </tr>\n",
              "    <tr>\n",
              "      <th>75%</th>\n",
              "      <td>14.320000</td>\n",
              "      <td>13.188500</td>\n",
              "      <td>179.883000</td>\n",
              "    </tr>\n",
              "    <tr>\n",
              "      <th>max</th>\n",
              "      <td>6582.000000</td>\n",
              "      <td>6582.000000</td>\n",
              "      <td>95697.499000</td>\n",
              "    </tr>\n",
              "  </tbody>\n",
              "</table>\n",
              "</div>"
            ],
            "text/plain": [
              "                 ni       ni_lag1       mv_lag2\n",
              "count  77254.000000  77254.000000  77254.000000\n",
              "mean      36.438873     34.112621    497.473205\n",
              "std      239.887753    229.023264   2350.501952\n",
              "min   -23498.300000 -23498.300000      0.000000\n",
              "25%       -0.268000     -0.150000     10.050313\n",
              "50%        2.121500      2.053000     37.590000\n",
              "75%       14.320000     13.188500    179.883000\n",
              "max     6582.000000   6582.000000  95697.499000"
            ]
          },
          "metadata": {
            "tags": []
          },
          "execution_count": 19
        }
      ]
    },
    {
      "cell_type": "code",
      "metadata": {
        "id": "kZMhwwZTv-6n",
        "colab_type": "code",
        "outputId": "984a98ea-ee79-467c-df15-56394648ebb0",
        "colab": {
          "base_uri": "https://localhost:8080/",
          "height": 221
        }
      },
      "source": [
        "varlist=['ni','ni_lag1','mv_lag2']\n",
        "for var in varlist:\n",
        "    funda1[var] = funda1[var].replace(np.Inf, np.nan)\n",
        "    funda1[var]=np.where(funda1[var].isnull(), np.nan, winsorize(funda1[var], limits=(0.01,0.01)))\n",
        "\n",
        "# funda1['earn_s']=funda1['earn']/funda1['mv_lag1']\n",
        "# fundax=funda1[['gvkey','fyear','earn_s']]"
      ],
      "execution_count": 0,
      "outputs": [
        {
          "output_type": "stream",
          "text": [
            "/usr/local/lib/python3.6/dist-packages/ipykernel_launcher.py:3: SettingWithCopyWarning: \n",
            "A value is trying to be set on a copy of a slice from a DataFrame.\n",
            "Try using .loc[row_indexer,col_indexer] = value instead\n",
            "\n",
            "See the caveats in the documentation: http://pandas.pydata.org/pandas-docs/stable/user_guide/indexing.html#returning-a-view-versus-a-copy\n",
            "  This is separate from the ipykernel package so we can avoid doing imports until\n",
            "/usr/local/lib/python3.6/dist-packages/ipykernel_launcher.py:4: SettingWithCopyWarning: \n",
            "A value is trying to be set on a copy of a slice from a DataFrame.\n",
            "Try using .loc[row_indexer,col_indexer] = value instead\n",
            "\n",
            "See the caveats in the documentation: http://pandas.pydata.org/pandas-docs/stable/user_guide/indexing.html#returning-a-view-versus-a-copy\n",
            "  after removing the cwd from sys.path.\n"
          ],
          "name": "stderr"
        }
      ]
    },
    {
      "cell_type": "code",
      "metadata": {
        "id": "xx6Z_EBOv-9C",
        "colab_type": "code",
        "outputId": "cdfb3064-4711-46cc-c941-ef6eeb4ec3bd",
        "colab": {
          "base_uri": "https://localhost:8080/",
          "height": 119
        }
      },
      "source": [
        "funda1['earn_s']=(funda1['ni']-funda1['ni_lag1'])/funda1['mv_lag2']\n",
        "fundax=funda1[['gvkey','fyear','earn_s']]"
      ],
      "execution_count": 0,
      "outputs": [
        {
          "output_type": "stream",
          "text": [
            "/usr/local/lib/python3.6/dist-packages/ipykernel_launcher.py:1: SettingWithCopyWarning: \n",
            "A value is trying to be set on a copy of a slice from a DataFrame.\n",
            "Try using .loc[row_indexer,col_indexer] = value instead\n",
            "\n",
            "See the caveats in the documentation: http://pandas.pydata.org/pandas-docs/stable/user_guide/indexing.html#returning-a-view-versus-a-copy\n",
            "  \"\"\"Entry point for launching an IPython kernel.\n"
          ],
          "name": "stderr"
        }
      ]
    },
    {
      "cell_type": "code",
      "metadata": {
        "id": "s4bLeh3cv_AI",
        "colab_type": "code",
        "outputId": "47ccc023-4bd0-49c4-f22f-d554a0be67c0",
        "colab": {
          "base_uri": "https://localhost:8080/",
          "height": 419
        }
      },
      "source": [
        "fundax"
      ],
      "execution_count": 0,
      "outputs": [
        {
          "output_type": "execute_result",
          "data": {
            "text/html": [
              "<div>\n",
              "<style scoped>\n",
              "    .dataframe tbody tr th:only-of-type {\n",
              "        vertical-align: middle;\n",
              "    }\n",
              "\n",
              "    .dataframe tbody tr th {\n",
              "        vertical-align: top;\n",
              "    }\n",
              "\n",
              "    .dataframe thead th {\n",
              "        text-align: right;\n",
              "    }\n",
              "</style>\n",
              "<table border=\"1\" class=\"dataframe\">\n",
              "  <thead>\n",
              "    <tr style=\"text-align: right;\">\n",
              "      <th></th>\n",
              "      <th>gvkey</th>\n",
              "      <th>fyear</th>\n",
              "      <th>earn_s</th>\n",
              "    </tr>\n",
              "  </thead>\n",
              "  <tbody>\n",
              "    <tr>\n",
              "      <th>2</th>\n",
              "      <td>001000</td>\n",
              "      <td>1976.0</td>\n",
              "      <td>0.251710</td>\n",
              "    </tr>\n",
              "    <tr>\n",
              "      <th>3</th>\n",
              "      <td>001000</td>\n",
              "      <td>1977.0</td>\n",
              "      <td>-0.164075</td>\n",
              "    </tr>\n",
              "    <tr>\n",
              "      <th>11</th>\n",
              "      <td>001001</td>\n",
              "      <td>1985.0</td>\n",
              "      <td>0.055590</td>\n",
              "    </tr>\n",
              "    <tr>\n",
              "      <th>17</th>\n",
              "      <td>001003</td>\n",
              "      <td>1985.0</td>\n",
              "      <td>-0.010720</td>\n",
              "    </tr>\n",
              "    <tr>\n",
              "      <th>18</th>\n",
              "      <td>001003</td>\n",
              "      <td>1986.0</td>\n",
              "      <td>0.075492</td>\n",
              "    </tr>\n",
              "    <tr>\n",
              "      <th>...</th>\n",
              "      <td>...</td>\n",
              "      <td>...</td>\n",
              "      <td>...</td>\n",
              "    </tr>\n",
              "    <tr>\n",
              "      <th>152641</th>\n",
              "      <td>153954</td>\n",
              "      <td>1988.0</td>\n",
              "      <td>-0.010349</td>\n",
              "    </tr>\n",
              "    <tr>\n",
              "      <th>152642</th>\n",
              "      <td>153954</td>\n",
              "      <td>1989.0</td>\n",
              "      <td>-0.000630</td>\n",
              "    </tr>\n",
              "    <tr>\n",
              "      <th>152643</th>\n",
              "      <td>153954</td>\n",
              "      <td>1990.0</td>\n",
              "      <td>-0.007284</td>\n",
              "    </tr>\n",
              "    <tr>\n",
              "      <th>152644</th>\n",
              "      <td>153954</td>\n",
              "      <td>1991.0</td>\n",
              "      <td>-0.119103</td>\n",
              "    </tr>\n",
              "    <tr>\n",
              "      <th>152645</th>\n",
              "      <td>153954</td>\n",
              "      <td>1992.0</td>\n",
              "      <td>-0.153462</td>\n",
              "    </tr>\n",
              "  </tbody>\n",
              "</table>\n",
              "<p>77254 rows × 3 columns</p>\n",
              "</div>"
            ],
            "text/plain": [
              "         gvkey   fyear    earn_s\n",
              "2       001000  1976.0  0.251710\n",
              "3       001000  1977.0 -0.164075\n",
              "11      001001  1985.0  0.055590\n",
              "17      001003  1985.0 -0.010720\n",
              "18      001003  1986.0  0.075492\n",
              "...        ...     ...       ...\n",
              "152641  153954  1988.0 -0.010349\n",
              "152642  153954  1989.0 -0.000630\n",
              "152643  153954  1990.0 -0.007284\n",
              "152644  153954  1991.0 -0.119103\n",
              "152645  153954  1992.0 -0.153462\n",
              "\n",
              "[77254 rows x 3 columns]"
            ]
          },
          "metadata": {
            "tags": []
          },
          "execution_count": 22
        }
      ]
    },
    {
      "cell_type": "code",
      "metadata": {
        "id": "ajono8fNv_CI",
        "colab_type": "code",
        "outputId": "bfa6704f-9966-4ede-ac28-5be79b0600a6",
        "colab": {
          "base_uri": "https://localhost:8080/",
          "height": 669
        }
      },
      "source": [
        "destable=fundax.describe().transpose()  # pooled sample\n",
        "desearn_s=fundax.groupby('fyear')['earn_s'].describe() # Table 1 Panel A\n",
        "desearn_s"
      ],
      "execution_count": 0,
      "outputs": [
        {
          "output_type": "execute_result",
          "data": {
            "text/html": [
              "<div>\n",
              "<style scoped>\n",
              "    .dataframe tbody tr th:only-of-type {\n",
              "        vertical-align: middle;\n",
              "    }\n",
              "\n",
              "    .dataframe tbody tr th {\n",
              "        vertical-align: top;\n",
              "    }\n",
              "\n",
              "    .dataframe thead th {\n",
              "        text-align: right;\n",
              "    }\n",
              "</style>\n",
              "<table border=\"1\" class=\"dataframe\">\n",
              "  <thead>\n",
              "    <tr style=\"text-align: right;\">\n",
              "      <th></th>\n",
              "      <th>count</th>\n",
              "      <th>mean</th>\n",
              "      <th>std</th>\n",
              "      <th>min</th>\n",
              "      <th>25%</th>\n",
              "      <th>50%</th>\n",
              "      <th>75%</th>\n",
              "      <th>max</th>\n",
              "    </tr>\n",
              "    <tr>\n",
              "      <th>fyear</th>\n",
              "      <th></th>\n",
              "      <th></th>\n",
              "      <th></th>\n",
              "      <th></th>\n",
              "      <th></th>\n",
              "      <th></th>\n",
              "      <th></th>\n",
              "      <th></th>\n",
              "    </tr>\n",
              "  </thead>\n",
              "  <tbody>\n",
              "    <tr>\n",
              "      <th>1976.0</th>\n",
              "      <td>3015.0</td>\n",
              "      <td>0.091359</td>\n",
              "      <td>0.762668</td>\n",
              "      <td>-16.056809</td>\n",
              "      <td>-0.004527</td>\n",
              "      <td>0.046578</td>\n",
              "      <td>0.146871</td>\n",
              "      <td>17.037146</td>\n",
              "    </tr>\n",
              "    <tr>\n",
              "      <th>1977.0</th>\n",
              "      <td>2938.0</td>\n",
              "      <td>0.052906</td>\n",
              "      <td>0.592184</td>\n",
              "      <td>-10.592589</td>\n",
              "      <td>-0.017603</td>\n",
              "      <td>0.025591</td>\n",
              "      <td>0.085081</td>\n",
              "      <td>13.541684</td>\n",
              "    </tr>\n",
              "    <tr>\n",
              "      <th>1978.0</th>\n",
              "      <td>2845.0</td>\n",
              "      <td>0.067652</td>\n",
              "      <td>0.415125</td>\n",
              "      <td>-5.516152</td>\n",
              "      <td>0.001728</td>\n",
              "      <td>0.033055</td>\n",
              "      <td>0.089901</td>\n",
              "      <td>7.992600</td>\n",
              "    </tr>\n",
              "    <tr>\n",
              "      <th>1979.0</th>\n",
              "      <td>2787.0</td>\n",
              "      <td>0.032416</td>\n",
              "      <td>0.439352</td>\n",
              "      <td>-9.485797</td>\n",
              "      <td>-0.018179</td>\n",
              "      <td>0.026384</td>\n",
              "      <td>0.081834</td>\n",
              "      <td>6.787168</td>\n",
              "    </tr>\n",
              "    <tr>\n",
              "      <th>1980.0</th>\n",
              "      <td>2972.0</td>\n",
              "      <td>-0.013522</td>\n",
              "      <td>0.503011</td>\n",
              "      <td>-9.572694</td>\n",
              "      <td>-0.052800</td>\n",
              "      <td>0.010433</td>\n",
              "      <td>0.057156</td>\n",
              "      <td>8.998543</td>\n",
              "    </tr>\n",
              "    <tr>\n",
              "      <th>1981.0</th>\n",
              "      <td>3236.0</td>\n",
              "      <td>0.021953</td>\n",
              "      <td>0.528304</td>\n",
              "      <td>-10.699259</td>\n",
              "      <td>-0.043220</td>\n",
              "      <td>0.013285</td>\n",
              "      <td>0.066551</td>\n",
              "      <td>8.455230</td>\n",
              "    </tr>\n",
              "    <tr>\n",
              "      <th>1982.0</th>\n",
              "      <td>3383.0</td>\n",
              "      <td>-0.040127</td>\n",
              "      <td>0.771100</td>\n",
              "      <td>-34.503704</td>\n",
              "      <td>-0.074150</td>\n",
              "      <td>-0.008113</td>\n",
              "      <td>0.032542</td>\n",
              "      <td>7.178971</td>\n",
              "    </tr>\n",
              "    <tr>\n",
              "      <th>1983.0</th>\n",
              "      <td>3847.0</td>\n",
              "      <td>0.050444</td>\n",
              "      <td>0.876949</td>\n",
              "      <td>-14.086471</td>\n",
              "      <td>-0.035955</td>\n",
              "      <td>0.016810</td>\n",
              "      <td>0.082652</td>\n",
              "      <td>33.494698</td>\n",
              "    </tr>\n",
              "    <tr>\n",
              "      <th>1984.0</th>\n",
              "      <td>3998.0</td>\n",
              "      <td>0.027196</td>\n",
              "      <td>0.611664</td>\n",
              "      <td>-13.969497</td>\n",
              "      <td>-0.037293</td>\n",
              "      <td>0.013222</td>\n",
              "      <td>0.071029</td>\n",
              "      <td>11.253930</td>\n",
              "    </tr>\n",
              "    <tr>\n",
              "      <th>1985.0</th>\n",
              "      <td>4182.0</td>\n",
              "      <td>-0.018906</td>\n",
              "      <td>0.423815</td>\n",
              "      <td>-9.643822</td>\n",
              "      <td>-0.052974</td>\n",
              "      <td>0.000086</td>\n",
              "      <td>0.033654</td>\n",
              "      <td>13.829994</td>\n",
              "    </tr>\n",
              "    <tr>\n",
              "      <th>1986.0</th>\n",
              "      <td>4216.0</td>\n",
              "      <td>0.020176</td>\n",
              "      <td>0.559528</td>\n",
              "      <td>-13.527979</td>\n",
              "      <td>-0.054120</td>\n",
              "      <td>0.005867</td>\n",
              "      <td>0.061408</td>\n",
              "      <td>11.177631</td>\n",
              "    </tr>\n",
              "    <tr>\n",
              "      <th>1987.0</th>\n",
              "      <td>4245.0</td>\n",
              "      <td>0.043352</td>\n",
              "      <td>0.835044</td>\n",
              "      <td>-19.838684</td>\n",
              "      <td>-0.034749</td>\n",
              "      <td>0.012483</td>\n",
              "      <td>0.070022</td>\n",
              "      <td>23.890656</td>\n",
              "    </tr>\n",
              "    <tr>\n",
              "      <th>1988.0</th>\n",
              "      <td>4322.0</td>\n",
              "      <td>0.013034</td>\n",
              "      <td>0.607328</td>\n",
              "      <td>-17.655960</td>\n",
              "      <td>-0.033760</td>\n",
              "      <td>0.010253</td>\n",
              "      <td>0.056489</td>\n",
              "      <td>12.339901</td>\n",
              "    </tr>\n",
              "    <tr>\n",
              "      <th>1989.0</th>\n",
              "      <td>5145.0</td>\n",
              "      <td>-0.000437</td>\n",
              "      <td>0.509943</td>\n",
              "      <td>-10.276973</td>\n",
              "      <td>-0.053782</td>\n",
              "      <td>0.004655</td>\n",
              "      <td>0.046307</td>\n",
              "      <td>18.340614</td>\n",
              "    </tr>\n",
              "    <tr>\n",
              "      <th>1990.0</th>\n",
              "      <td>5094.0</td>\n",
              "      <td>-0.017626</td>\n",
              "      <td>0.693171</td>\n",
              "      <td>-19.918375</td>\n",
              "      <td>-0.063912</td>\n",
              "      <td>0.001180</td>\n",
              "      <td>0.041523</td>\n",
              "      <td>23.452947</td>\n",
              "    </tr>\n",
              "    <tr>\n",
              "      <th>1991.0</th>\n",
              "      <td>5122.0</td>\n",
              "      <td>-0.029519</td>\n",
              "      <td>2.039210</td>\n",
              "      <td>-96.887614</td>\n",
              "      <td>-0.055699</td>\n",
              "      <td>0.001317</td>\n",
              "      <td>0.045660</td>\n",
              "      <td>16.451852</td>\n",
              "    </tr>\n",
              "    <tr>\n",
              "      <th>1992.0</th>\n",
              "      <td>5161.0</td>\n",
              "      <td>0.121055</td>\n",
              "      <td>5.863778</td>\n",
              "      <td>-253.805138</td>\n",
              "      <td>-0.048397</td>\n",
              "      <td>0.009305</td>\n",
              "      <td>0.080102</td>\n",
              "      <td>207.332680</td>\n",
              "    </tr>\n",
              "    <tr>\n",
              "      <th>1993.0</th>\n",
              "      <td>5263.0</td>\n",
              "      <td>-0.085446</td>\n",
              "      <td>5.692719</td>\n",
              "      <td>-346.961611</td>\n",
              "      <td>-0.033736</td>\n",
              "      <td>0.010430</td>\n",
              "      <td>0.066147</td>\n",
              "      <td>44.062996</td>\n",
              "    </tr>\n",
              "    <tr>\n",
              "      <th>1994.0</th>\n",
              "      <td>5483.0</td>\n",
              "      <td>-0.033517</td>\n",
              "      <td>3.106380</td>\n",
              "      <td>-194.531561</td>\n",
              "      <td>-0.024273</td>\n",
              "      <td>0.012777</td>\n",
              "      <td>0.063524</td>\n",
              "      <td>24.638519</td>\n",
              "    </tr>\n",
              "  </tbody>\n",
              "</table>\n",
              "</div>"
            ],
            "text/plain": [
              "         count      mean       std  ...       50%       75%         max\n",
              "fyear                               ...                                \n",
              "1976.0  3015.0  0.091359  0.762668  ...  0.046578  0.146871   17.037146\n",
              "1977.0  2938.0  0.052906  0.592184  ...  0.025591  0.085081   13.541684\n",
              "1978.0  2845.0  0.067652  0.415125  ...  0.033055  0.089901    7.992600\n",
              "1979.0  2787.0  0.032416  0.439352  ...  0.026384  0.081834    6.787168\n",
              "1980.0  2972.0 -0.013522  0.503011  ...  0.010433  0.057156    8.998543\n",
              "1981.0  3236.0  0.021953  0.528304  ...  0.013285  0.066551    8.455230\n",
              "1982.0  3383.0 -0.040127  0.771100  ... -0.008113  0.032542    7.178971\n",
              "1983.0  3847.0  0.050444  0.876949  ...  0.016810  0.082652   33.494698\n",
              "1984.0  3998.0  0.027196  0.611664  ...  0.013222  0.071029   11.253930\n",
              "1985.0  4182.0 -0.018906  0.423815  ...  0.000086  0.033654   13.829994\n",
              "1986.0  4216.0  0.020176  0.559528  ...  0.005867  0.061408   11.177631\n",
              "1987.0  4245.0  0.043352  0.835044  ...  0.012483  0.070022   23.890656\n",
              "1988.0  4322.0  0.013034  0.607328  ...  0.010253  0.056489   12.339901\n",
              "1989.0  5145.0 -0.000437  0.509943  ...  0.004655  0.046307   18.340614\n",
              "1990.0  5094.0 -0.017626  0.693171  ...  0.001180  0.041523   23.452947\n",
              "1991.0  5122.0 -0.029519  2.039210  ...  0.001317  0.045660   16.451852\n",
              "1992.0  5161.0  0.121055  5.863778  ...  0.009305  0.080102  207.332680\n",
              "1993.0  5263.0 -0.085446  5.692719  ...  0.010430  0.066147   44.062996\n",
              "1994.0  5483.0 -0.033517  3.106380  ...  0.012777  0.063524   24.638519\n",
              "\n",
              "[19 rows x 8 columns]"
            ]
          },
          "metadata": {
            "tags": []
          },
          "execution_count": 23
        }
      ]
    },
    {
      "cell_type": "code",
      "metadata": {
        "id": "DyrIdV_E9kSs",
        "colab_type": "code",
        "colab": {}
      },
      "source": [
        "# Figure 3\n",
        "import matplotlib.pyplot as plt\n",
        "\n",
        "plt.xlim(-0.8,0.8)\n",
        "plt.hist(xx['earn_s'], bins=50)\n",
        "plt.axvline(x=0, color='k', linestyle='--')\n",
        "plt.xlabel('Earnings Interval')\n",
        "plt.ylabel('Frequency')\n",
        "plt.title('Fig.3. Empirical distribution annual net income')\n",
        "plt.show"
      ],
      "execution_count": 0,
      "outputs": []
    },
    {
      "cell_type": "code",
      "metadata": {
        "id": "CiCCfy3gv_ET",
        "colab_type": "code",
        "outputId": "2424d1ee-3e4d-4de8-c0b2-a5d60ea856b9",
        "colab": {
          "base_uri": "https://localhost:8080/",
          "height": 312
        }
      },
      "source": [
        "# Figure 3\n",
        "import matplotlib.pyplot as plt\n",
        "\n",
        "plt.xlim(-0.8,0.8)\n",
        "plt.hist(xx['earn_s'], bins=50)\n",
        "plt.axvline(x=0, color='k', linestyle='--')\n",
        "plt.xlabel('Earnings Interval')\n",
        "plt.ylabel('Frequency')\n",
        "plt.title('Fig.3. Empirical distribution annual net income')\n",
        "plt.show"
      ],
      "execution_count": 0,
      "outputs": [
        {
          "output_type": "execute_result",
          "data": {
            "text/plain": [
              "<function matplotlib.pyplot.show>"
            ]
          },
          "metadata": {
            "tags": []
          },
          "execution_count": 111
        },
        {
          "output_type": "display_data",
          "data": {
            "image/png": "[encoded data removed]",
            "text/plain": [
              "<Figure size 432x288 with 1 Axes>"
            ]
          },
          "metadata": {
            "tags": []
          }
        }
      ]
    },
    {
      "cell_type": "code",
      "metadata": {
        "id": "Wh85RhO5v_HD",
        "colab_type": "code",
        "outputId": "aa96a8e5-decd-4c70-82b9-2ccaa4a85057",
        "colab": {
          "base_uri": "https://localhost:8080/",
          "height": 170
        }
      },
      "source": [
        "fundax['earn_s'].describe()"
      ],
      "execution_count": 0,
      "outputs": [
        {
          "output_type": "execute_result",
          "data": {
            "text/plain": [
              "count    77254.000000\n",
              "mean         0.011728\n",
              "std          2.399188\n",
              "min       -346.961611\n",
              "25%         -0.041204\n",
              "50%          0.010352\n",
              "75%          0.064816\n",
              "max        207.332680\n",
              "Name: earn_s, dtype: float64"
            ]
          },
          "metadata": {
            "tags": []
          },
          "execution_count": 39
        }
      ]
    },
    {
      "cell_type": "code",
      "metadata": {
        "id": "3SKOxG5Cu0F3",
        "colab_type": "code",
        "colab": {}
      },
      "source": [
        "# winsorize before doing scales.\n",
        "varlist=['earn','mv_lag1']\n",
        "for var in varlist:\n",
        "    funda1[var] = funda1[var].replace(np.Inf, np.nan)\n",
        "    funda1[var]=np.where(funda1[var].isnull(), np.nan, winsorize(funda1[var], limits=(0.01,0.01)))\n",
        "\n",
        "funda1['earn_s']=funda1['earn']/funda1['mv_lag1']\n",
        "fundax=funda1[['gvkey','fyear','earn_s']]"
      ],
      "execution_count": 0,
      "outputs": []
    },
    {
      "cell_type": "code",
      "metadata": {
        "id": "LUl9pnksy0uc",
        "colab_type": "code",
        "colab": {}
      },
      "source": [
        "xx = fundax[fundax['earn_s']>-1]"
      ],
      "execution_count": 0,
      "outputs": []
    },
    {
      "cell_type": "code",
      "metadata": {
        "id": "4oYQ7qQmzCZB",
        "colab_type": "code",
        "colab": {}
      },
      "source": [
        "xx = xx[xx['earn_s']<1]"
      ],
      "execution_count": 0,
      "outputs": []
    },
    {
      "cell_type": "code",
      "metadata": {
        "id": "Q3RDqi40zPih",
        "colab_type": "code",
        "outputId": "3913136d-873d-40af-81df-bf0fb794beb4",
        "colab": {
          "base_uri": "https://localhost:8080/",
          "height": 170
        }
      },
      "source": [
        "xx['earn_s'].describe()"
      ],
      "execution_count": 0,
      "outputs": [
        {
          "output_type": "execute_result",
          "data": {
            "text/plain": [
              "count    74842.000000\n",
              "mean         0.011660\n",
              "std          0.199559\n",
              "min         -0.998649\n",
              "25%         -0.038787\n",
              "50%          0.010129\n",
              "75%          0.061103\n",
              "max          0.999782\n",
              "Name: earn_s, dtype: float64"
            ]
          },
          "metadata": {
            "tags": []
          },
          "execution_count": 51
        }
      ]
    },
    {
      "cell_type": "code",
      "metadata": {
        "id": "VbFl7d0ezRMe",
        "colab_type": "code",
        "outputId": "162a352e-8ed7-4780-dd7a-f056d74e6a49",
        "colab": {
          "base_uri": "https://localhost:8080/",
          "height": 34
        }
      },
      "source": [
        "fundax.shape"
      ],
      "execution_count": 0,
      "outputs": [
        {
          "output_type": "execute_result",
          "data": {
            "text/plain": [
              "(77254, 3)"
            ]
          },
          "metadata": {
            "tags": []
          },
          "execution_count": 54
        }
      ]
    },
    {
      "cell_type": "markdown",
      "metadata": {
        "id": "oZK5gqZrIQFs",
        "colab_type": "text"
      },
      "source": [
        "# Figure 3"
      ]
    },
    {
      "cell_type": "code",
      "metadata": {
        "id": "RGTTYrEH4FIl",
        "colab_type": "code",
        "colab": {}
      },
      "source": [
        "funda1 =  temp.copy()"
      ],
      "execution_count": 0,
      "outputs": []
    },
    {
      "cell_type": "code",
      "metadata": {
        "id": "xuRX1SuqG-gM",
        "colab_type": "code",
        "colab": {}
      },
      "source": [
        "\n",
        "# generate lag variables\n",
        "funda1_lag1= funda1[['gvkey','fyear','ni','mv']].copy() # you can use shift, but shift gives wrong lag variables when there are missing years. \n",
        "funda1_lag1['fyear']=funda1_lag1['fyear']+1\n",
        "funda1_lag1=funda1_lag1.rename(columns={'mv':'mv_lag1','ni':'ni_lag1'})\n",
        "\n",
        "funda1=pd.merge(funda1,funda1_lag1, how='left', on=['gvkey','fyear'])\n",
        "\n"
      ],
      "execution_count": 0,
      "outputs": []
    },
    {
      "cell_type": "code",
      "metadata": {
        "id": "OJRbD1rFG_Gn",
        "colab_type": "code",
        "outputId": "39d51038-2f64-4e62-b82e-446e57904bff",
        "colab": {
          "base_uri": "https://localhost:8080/",
          "height": 419
        }
      },
      "source": [
        "funda1"
      ],
      "execution_count": 0,
      "outputs": [
        {
          "output_type": "execute_result",
          "data": {
            "text/html": [
              "<div>\n",
              "<style scoped>\n",
              "    .dataframe tbody tr th:only-of-type {\n",
              "        vertical-align: middle;\n",
              "    }\n",
              "\n",
              "    .dataframe tbody tr th {\n",
              "        vertical-align: top;\n",
              "    }\n",
              "\n",
              "    .dataframe thead th {\n",
              "        text-align: right;\n",
              "    }\n",
              "</style>\n",
              "<table border=\"1\" class=\"dataframe\">\n",
              "  <thead>\n",
              "    <tr style=\"text-align: right;\">\n",
              "      <th></th>\n",
              "      <th>gvkey</th>\n",
              "      <th>fyear</th>\n",
              "      <th>ni</th>\n",
              "      <th>csho</th>\n",
              "      <th>prcc_f</th>\n",
              "      <th>sic1</th>\n",
              "      <th>mv</th>\n",
              "      <th>ni_lag1</th>\n",
              "      <th>mv_lag1</th>\n",
              "    </tr>\n",
              "  </thead>\n",
              "  <tbody>\n",
              "    <tr>\n",
              "      <th>0</th>\n",
              "      <td>001000</td>\n",
              "      <td>1974.0</td>\n",
              "      <td>2.240</td>\n",
              "      <td>2.150</td>\n",
              "      <td>2.125</td>\n",
              "      <td>3089</td>\n",
              "      <td>4.568750</td>\n",
              "      <td>NaN</td>\n",
              "      <td>NaN</td>\n",
              "    </tr>\n",
              "    <tr>\n",
              "      <th>1</th>\n",
              "      <td>001000</td>\n",
              "      <td>1975.0</td>\n",
              "      <td>2.284</td>\n",
              "      <td>2.098</td>\n",
              "      <td>4.375</td>\n",
              "      <td>3089</td>\n",
              "      <td>9.178750</td>\n",
              "      <td>2.240</td>\n",
              "      <td>4.568750</td>\n",
              "    </tr>\n",
              "    <tr>\n",
              "      <th>2</th>\n",
              "      <td>001000</td>\n",
              "      <td>1976.0</td>\n",
              "      <td>3.434</td>\n",
              "      <td>2.207</td>\n",
              "      <td>5.750</td>\n",
              "      <td>3089</td>\n",
              "      <td>12.690250</td>\n",
              "      <td>2.284</td>\n",
              "      <td>9.178750</td>\n",
              "    </tr>\n",
              "    <tr>\n",
              "      <th>3</th>\n",
              "      <td>001000</td>\n",
              "      <td>1977.0</td>\n",
              "      <td>1.928</td>\n",
              "      <td>2.226</td>\n",
              "      <td>9.250</td>\n",
              "      <td>3089</td>\n",
              "      <td>20.590500</td>\n",
              "      <td>3.434</td>\n",
              "      <td>12.690250</td>\n",
              "    </tr>\n",
              "    <tr>\n",
              "      <th>4</th>\n",
              "      <td>001001</td>\n",
              "      <td>1978.0</td>\n",
              "      <td>NaN</td>\n",
              "      <td>NaN</td>\n",
              "      <td>NaN</td>\n",
              "      <td>5812</td>\n",
              "      <td>NaN</td>\n",
              "      <td>NaN</td>\n",
              "      <td>NaN</td>\n",
              "    </tr>\n",
              "    <tr>\n",
              "      <th>...</th>\n",
              "      <td>...</td>\n",
              "      <td>...</td>\n",
              "      <td>...</td>\n",
              "      <td>...</td>\n",
              "      <td>...</td>\n",
              "      <td>...</td>\n",
              "      <td>...</td>\n",
              "      <td>...</td>\n",
              "      <td>...</td>\n",
              "    </tr>\n",
              "    <tr>\n",
              "      <th>152670</th>\n",
              "      <td>210607</td>\n",
              "      <td>1993.0</td>\n",
              "      <td>NaN</td>\n",
              "      <td>NaN</td>\n",
              "      <td>NaN</td>\n",
              "      <td>1040</td>\n",
              "      <td>NaN</td>\n",
              "      <td>NaN</td>\n",
              "      <td>NaN</td>\n",
              "    </tr>\n",
              "    <tr>\n",
              "      <th>152671</th>\n",
              "      <td>210607</td>\n",
              "      <td>1994.0</td>\n",
              "      <td>NaN</td>\n",
              "      <td>NaN</td>\n",
              "      <td>NaN</td>\n",
              "      <td>1040</td>\n",
              "      <td>NaN</td>\n",
              "      <td>NaN</td>\n",
              "      <td>NaN</td>\n",
              "    </tr>\n",
              "    <tr>\n",
              "      <th>152672</th>\n",
              "      <td>220508</td>\n",
              "      <td>1993.0</td>\n",
              "      <td>55.034</td>\n",
              "      <td>61.227</td>\n",
              "      <td>23.266</td>\n",
              "      <td>1</td>\n",
              "      <td>1424.507382</td>\n",
              "      <td>NaN</td>\n",
              "      <td>NaN</td>\n",
              "    </tr>\n",
              "    <tr>\n",
              "      <th>152673</th>\n",
              "      <td>220508</td>\n",
              "      <td>1994.0</td>\n",
              "      <td>42.840</td>\n",
              "      <td>61.227</td>\n",
              "      <td>16.500</td>\n",
              "      <td>1</td>\n",
              "      <td>1010.245500</td>\n",
              "      <td>55.034</td>\n",
              "      <td>1424.507382</td>\n",
              "    </tr>\n",
              "    <tr>\n",
              "      <th>152674</th>\n",
              "      <td>277918</td>\n",
              "      <td>1994.0</td>\n",
              "      <td>-25.021</td>\n",
              "      <td>15.518</td>\n",
              "      <td>NaN</td>\n",
              "      <td>1</td>\n",
              "      <td>NaN</td>\n",
              "      <td>NaN</td>\n",
              "      <td>NaN</td>\n",
              "    </tr>\n",
              "  </tbody>\n",
              "</table>\n",
              "<p>152675 rows × 9 columns</p>\n",
              "</div>"
            ],
            "text/plain": [
              "         gvkey   fyear      ni    csho  ...  sic1           mv  ni_lag1      mv_lag1\n",
              "0       001000  1974.0   2.240   2.150  ...  3089     4.568750      NaN          NaN\n",
              "1       001000  1975.0   2.284   2.098  ...  3089     9.178750    2.240     4.568750\n",
              "2       001000  1976.0   3.434   2.207  ...  3089    12.690250    2.284     9.178750\n",
              "3       001000  1977.0   1.928   2.226  ...  3089    20.590500    3.434    12.690250\n",
              "4       001001  1978.0     NaN     NaN  ...  5812          NaN      NaN          NaN\n",
              "...        ...     ...     ...     ...  ...   ...          ...      ...          ...\n",
              "152670  210607  1993.0     NaN     NaN  ...  1040          NaN      NaN          NaN\n",
              "152671  210607  1994.0     NaN     NaN  ...  1040          NaN      NaN          NaN\n",
              "152672  220508  1993.0  55.034  61.227  ...     1  1424.507382      NaN          NaN\n",
              "152673  220508  1994.0  42.840  61.227  ...     1  1010.245500   55.034  1424.507382\n",
              "152674  277918  1994.0 -25.021  15.518  ...     1          NaN      NaN          NaN\n",
              "\n",
              "[152675 rows x 9 columns]"
            ]
          },
          "metadata": {
            "tags": []
          },
          "execution_count": 106
        }
      ]
    },
    {
      "cell_type": "code",
      "metadata": {
        "id": "SwrZpmfaHF5J",
        "colab_type": "code",
        "colab": {}
      },
      "source": [
        "# generate test variables\n",
        "funda1=funda1.rename(columns={'ni':'earn'})\n",
        "    # scale earn with mv_lag1 and earnchg with mv_lag2\n",
        "funda1=funda1.dropna()\n",
        "funda1[['earn','mv_lag1']].describe()\n",
        "# winsorize before doing scales.\n",
        "varlist=['earn','mv_lag1']\n",
        "for var in varlist:\n",
        "    funda1[var] = funda1[var].replace(np.Inf, np.nan)\n",
        "    funda1[var]=np.where(funda1[var].isnull(), np.nan, winsorize(funda1[var], limits=(0.01,0.01)))\n",
        "\n",
        "funda1['earn_s']=funda1['earn']/funda1['mv_lag1']\n",
        "funda1=funda1[['gvkey','fyear','earn_s']]"
      ],
      "execution_count": 0,
      "outputs": []
    },
    {
      "cell_type": "code",
      "metadata": {
        "id": "T91hAUvIIa-4",
        "colab_type": "code",
        "colab": {}
      },
      "source": [
        "funda2=funda1.dropna()\n",
        "funda2.describe()\n",
        "\n",
        "varlist=['earn_s']\n",
        "for var in varlist:\n",
        "    funda2[var] = funda2[var].replace(np.Inf, np.nan)\n",
        "    funda2[var]=np.where(funda2[var].isnull(), np.nan, winsorize(funda2[var], limits=(0.01,0.01)))\n",
        "\n",
        "\n",
        "\n",
        "# Table 1\n",
        "destable=funda2.describe().transpose()  # pooled sample\n",
        "desearn_s=funda2.groupby('fyear')['earn_s'].describe()"
      ],
      "execution_count": 0,
      "outputs": []
    },
    {
      "cell_type": "code",
      "metadata": {
        "id": "UB92W2wtIhTD",
        "colab_type": "code",
        "outputId": "e4c3ff81-0531-455b-d5b5-2ac7dbad027b",
        "colab": {
          "base_uri": "https://localhost:8080/",
          "height": 700
        }
      },
      "source": [
        "desearn_s"
      ],
      "execution_count": 0,
      "outputs": [
        {
          "output_type": "execute_result",
          "data": {
            "text/html": [
              "<div>\n",
              "<style scoped>\n",
              "    .dataframe tbody tr th:only-of-type {\n",
              "        vertical-align: middle;\n",
              "    }\n",
              "\n",
              "    .dataframe tbody tr th {\n",
              "        vertical-align: top;\n",
              "    }\n",
              "\n",
              "    .dataframe thead th {\n",
              "        text-align: right;\n",
              "    }\n",
              "</style>\n",
              "<table border=\"1\" class=\"dataframe\">\n",
              "  <thead>\n",
              "    <tr style=\"text-align: right;\">\n",
              "      <th></th>\n",
              "      <th>count</th>\n",
              "      <th>mean</th>\n",
              "      <th>std</th>\n",
              "      <th>min</th>\n",
              "      <th>25%</th>\n",
              "      <th>50%</th>\n",
              "      <th>75%</th>\n",
              "      <th>max</th>\n",
              "    </tr>\n",
              "    <tr>\n",
              "      <th>fyear</th>\n",
              "      <th></th>\n",
              "      <th></th>\n",
              "      <th></th>\n",
              "      <th></th>\n",
              "      <th></th>\n",
              "      <th></th>\n",
              "      <th></th>\n",
              "      <th></th>\n",
              "    </tr>\n",
              "  </thead>\n",
              "  <tbody>\n",
              "    <tr>\n",
              "      <th>1975.0</th>\n",
              "      <td>3138.0</td>\n",
              "      <td>0.130740</td>\n",
              "      <td>0.399155</td>\n",
              "      <td>-1.893193</td>\n",
              "      <td>0.075892</td>\n",
              "      <td>0.181029</td>\n",
              "      <td>0.301879</td>\n",
              "      <td>0.746798</td>\n",
              "    </tr>\n",
              "    <tr>\n",
              "      <th>1976.0</th>\n",
              "      <td>3092.0</td>\n",
              "      <td>0.127893</td>\n",
              "      <td>0.338998</td>\n",
              "      <td>-1.893193</td>\n",
              "      <td>0.083724</td>\n",
              "      <td>0.163079</td>\n",
              "      <td>0.254489</td>\n",
              "      <td>0.746798</td>\n",
              "    </tr>\n",
              "    <tr>\n",
              "      <th>1977.0</th>\n",
              "      <td>3039.0</td>\n",
              "      <td>0.113652</td>\n",
              "      <td>0.287251</td>\n",
              "      <td>-1.893193</td>\n",
              "      <td>0.079810</td>\n",
              "      <td>0.142893</td>\n",
              "      <td>0.213591</td>\n",
              "      <td>0.746798</td>\n",
              "    </tr>\n",
              "    <tr>\n",
              "      <th>1978.0</th>\n",
              "      <td>2950.0</td>\n",
              "      <td>0.142773</td>\n",
              "      <td>0.259866</td>\n",
              "      <td>-1.893193</td>\n",
              "      <td>0.098576</td>\n",
              "      <td>0.156579</td>\n",
              "      <td>0.232311</td>\n",
              "      <td>0.746798</td>\n",
              "    </tr>\n",
              "    <tr>\n",
              "      <th>1979.0</th>\n",
              "      <td>3144.0</td>\n",
              "      <td>0.129145</td>\n",
              "      <td>0.269693</td>\n",
              "      <td>-1.893193</td>\n",
              "      <td>0.084145</td>\n",
              "      <td>0.153107</td>\n",
              "      <td>0.226825</td>\n",
              "      <td>0.746798</td>\n",
              "    </tr>\n",
              "    <tr>\n",
              "      <th>1980.0</th>\n",
              "      <td>3458.0</td>\n",
              "      <td>0.084865</td>\n",
              "      <td>0.299764</td>\n",
              "      <td>-1.893193</td>\n",
              "      <td>0.050298</td>\n",
              "      <td>0.121157</td>\n",
              "      <td>0.190368</td>\n",
              "      <td>0.746798</td>\n",
              "    </tr>\n",
              "    <tr>\n",
              "      <th>1981.0</th>\n",
              "      <td>3623.0</td>\n",
              "      <td>0.060820</td>\n",
              "      <td>0.278468</td>\n",
              "      <td>-1.893193</td>\n",
              "      <td>0.017399</td>\n",
              "      <td>0.089735</td>\n",
              "      <td>0.164700</td>\n",
              "      <td>0.746798</td>\n",
              "    </tr>\n",
              "    <tr>\n",
              "      <th>1982.0</th>\n",
              "      <td>4152.0</td>\n",
              "      <td>0.010523</td>\n",
              "      <td>0.313536</td>\n",
              "      <td>-1.893193</td>\n",
              "      <td>-0.033932</td>\n",
              "      <td>0.067269</td>\n",
              "      <td>0.132087</td>\n",
              "      <td>0.746798</td>\n",
              "    </tr>\n",
              "    <tr>\n",
              "      <th>1983.0</th>\n",
              "      <td>4413.0</td>\n",
              "      <td>0.007964</td>\n",
              "      <td>0.333015</td>\n",
              "      <td>-1.893193</td>\n",
              "      <td>-0.026981</td>\n",
              "      <td>0.071681</td>\n",
              "      <td>0.135798</td>\n",
              "      <td>0.746798</td>\n",
              "    </tr>\n",
              "    <tr>\n",
              "      <th>1984.0</th>\n",
              "      <td>4620.0</td>\n",
              "      <td>0.006658</td>\n",
              "      <td>0.259204</td>\n",
              "      <td>-1.893193</td>\n",
              "      <td>-0.026260</td>\n",
              "      <td>0.056107</td>\n",
              "      <td>0.106412</td>\n",
              "      <td>0.746798</td>\n",
              "    </tr>\n",
              "    <tr>\n",
              "      <th>1985.0</th>\n",
              "      <td>4661.0</td>\n",
              "      <td>-0.038377</td>\n",
              "      <td>0.340726</td>\n",
              "      <td>-1.893193</td>\n",
              "      <td>-0.067254</td>\n",
              "      <td>0.049546</td>\n",
              "      <td>0.104829</td>\n",
              "      <td>0.746798</td>\n",
              "    </tr>\n",
              "    <tr>\n",
              "      <th>1986.0</th>\n",
              "      <td>4686.0</td>\n",
              "      <td>-0.048918</td>\n",
              "      <td>0.332944</td>\n",
              "      <td>-1.893193</td>\n",
              "      <td>-0.072463</td>\n",
              "      <td>0.038223</td>\n",
              "      <td>0.088348</td>\n",
              "      <td>0.746798</td>\n",
              "    </tr>\n",
              "    <tr>\n",
              "      <th>1987.0</th>\n",
              "      <td>4891.0</td>\n",
              "      <td>-0.025234</td>\n",
              "      <td>0.293701</td>\n",
              "      <td>-1.893193</td>\n",
              "      <td>-0.053275</td>\n",
              "      <td>0.042849</td>\n",
              "      <td>0.088582</td>\n",
              "      <td>0.746798</td>\n",
              "    </tr>\n",
              "    <tr>\n",
              "      <th>1988.0</th>\n",
              "      <td>5718.0</td>\n",
              "      <td>-0.021199</td>\n",
              "      <td>0.327016</td>\n",
              "      <td>-1.893193</td>\n",
              "      <td>-0.055862</td>\n",
              "      <td>0.056280</td>\n",
              "      <td>0.110855</td>\n",
              "      <td>0.746798</td>\n",
              "    </tr>\n",
              "    <tr>\n",
              "      <th>1989.0</th>\n",
              "      <td>5549.0</td>\n",
              "      <td>-0.035560</td>\n",
              "      <td>0.327600</td>\n",
              "      <td>-1.893193</td>\n",
              "      <td>-0.066699</td>\n",
              "      <td>0.049951</td>\n",
              "      <td>0.103257</td>\n",
              "      <td>0.746798</td>\n",
              "    </tr>\n",
              "    <tr>\n",
              "      <th>1990.0</th>\n",
              "      <td>5509.0</td>\n",
              "      <td>-0.064907</td>\n",
              "      <td>0.358394</td>\n",
              "      <td>-1.893193</td>\n",
              "      <td>-0.078603</td>\n",
              "      <td>0.039008</td>\n",
              "      <td>0.086454</td>\n",
              "      <td>0.746798</td>\n",
              "    </tr>\n",
              "    <tr>\n",
              "      <th>1991.0</th>\n",
              "      <td>5509.0</td>\n",
              "      <td>-0.092790</td>\n",
              "      <td>0.433528</td>\n",
              "      <td>-1.893193</td>\n",
              "      <td>-0.111175</td>\n",
              "      <td>0.039772</td>\n",
              "      <td>0.095802</td>\n",
              "      <td>0.746798</td>\n",
              "    </tr>\n",
              "    <tr>\n",
              "      <th>1992.0</th>\n",
              "      <td>5667.0</td>\n",
              "      <td>-0.055398</td>\n",
              "      <td>0.367109</td>\n",
              "      <td>-1.893193</td>\n",
              "      <td>-0.061949</td>\n",
              "      <td>0.037014</td>\n",
              "      <td>0.082420</td>\n",
              "      <td>0.746798</td>\n",
              "    </tr>\n",
              "    <tr>\n",
              "      <th>1993.0</th>\n",
              "      <td>5886.0</td>\n",
              "      <td>-0.028554</td>\n",
              "      <td>0.316366</td>\n",
              "      <td>-1.893193</td>\n",
              "      <td>-0.049260</td>\n",
              "      <td>0.042695</td>\n",
              "      <td>0.084617</td>\n",
              "      <td>0.746798</td>\n",
              "    </tr>\n",
              "    <tr>\n",
              "      <th>1994.0</th>\n",
              "      <td>6514.0</td>\n",
              "      <td>-0.006979</td>\n",
              "      <td>0.247248</td>\n",
              "      <td>-1.893193</td>\n",
              "      <td>-0.025429</td>\n",
              "      <td>0.049238</td>\n",
              "      <td>0.081754</td>\n",
              "      <td>0.746798</td>\n",
              "    </tr>\n",
              "  </tbody>\n",
              "</table>\n",
              "</div>"
            ],
            "text/plain": [
              "         count      mean       std  ...       50%       75%       max\n",
              "fyear                               ...                              \n",
              "1975.0  3138.0  0.130740  0.399155  ...  0.181029  0.301879  0.746798\n",
              "1976.0  3092.0  0.127893  0.338998  ...  0.163079  0.254489  0.746798\n",
              "1977.0  3039.0  0.113652  0.287251  ...  0.142893  0.213591  0.746798\n",
              "1978.0  2950.0  0.142773  0.259866  ...  0.156579  0.232311  0.746798\n",
              "1979.0  3144.0  0.129145  0.269693  ...  0.153107  0.226825  0.746798\n",
              "1980.0  3458.0  0.084865  0.299764  ...  0.121157  0.190368  0.746798\n",
              "1981.0  3623.0  0.060820  0.278468  ...  0.089735  0.164700  0.746798\n",
              "1982.0  4152.0  0.010523  0.313536  ...  0.067269  0.132087  0.746798\n",
              "1983.0  4413.0  0.007964  0.333015  ...  0.071681  0.135798  0.746798\n",
              "1984.0  4620.0  0.006658  0.259204  ...  0.056107  0.106412  0.746798\n",
              "1985.0  4661.0 -0.038377  0.340726  ...  0.049546  0.104829  0.746798\n",
              "1986.0  4686.0 -0.048918  0.332944  ...  0.038223  0.088348  0.746798\n",
              "1987.0  4891.0 -0.025234  0.293701  ...  0.042849  0.088582  0.746798\n",
              "1988.0  5718.0 -0.021199  0.327016  ...  0.056280  0.110855  0.746798\n",
              "1989.0  5549.0 -0.035560  0.327600  ...  0.049951  0.103257  0.746798\n",
              "1990.0  5509.0 -0.064907  0.358394  ...  0.039008  0.086454  0.746798\n",
              "1991.0  5509.0 -0.092790  0.433528  ...  0.039772  0.095802  0.746798\n",
              "1992.0  5667.0 -0.055398  0.367109  ...  0.037014  0.082420  0.746798\n",
              "1993.0  5886.0 -0.028554  0.316366  ...  0.042695  0.084617  0.746798\n",
              "1994.0  6514.0 -0.006979  0.247248  ...  0.049238  0.081754  0.746798\n",
              "\n",
              "[20 rows x 8 columns]"
            ]
          },
          "metadata": {
            "tags": []
          },
          "execution_count": 109
        }
      ]
    },
    {
      "cell_type": "code",
      "metadata": {
        "id": "66KZ9GZrIikA",
        "colab_type": "code",
        "outputId": "77225f4c-7816-42b4-bccf-893d5be763e6",
        "colab": {
          "base_uri": "https://localhost:8080/",
          "height": 312
        }
      },
      "source": [
        "# Figure 3\n",
        "import matplotlib.pyplot as plt\n",
        "\n",
        "\n",
        "plt.hist(funda2['earn_s'], bins=50)\n",
        "plt.axvline(x=0, color='k', linestyle='--')\n",
        "plt.xlabel('Earnings Interval')\n",
        "plt.ylabel('Frequency')\n",
        "plt.title('Fig.3. Empirical distribution annual net income')\n",
        "plt.show"
      ],
      "execution_count": 0,
      "outputs": [
        {
          "output_type": "execute_result",
          "data": {
            "text/plain": [
              "<function matplotlib.pyplot.show>"
            ]
          },
          "metadata": {
            "tags": []
          },
          "execution_count": 110
        },
        {
          "output_type": "display_data",
          "data": {
            "image/png": "[encoded data removed]",
            "text/plain": [
              "<Figure size 432x288 with 1 Axes>"
            ]
          },
          "metadata": {
            "tags": []
          }
        }
      ]
    },
    {
      "cell_type": "code",
      "metadata": {
        "id": "gkgAeGb1IneU",
        "colab_type": "code",
        "colab": {}
      },
      "source": [
        ""
      ],
      "execution_count": 0,
      "outputs": []
    }
  ]
}